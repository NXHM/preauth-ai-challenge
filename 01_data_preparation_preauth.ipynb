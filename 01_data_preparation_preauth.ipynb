{
 "cells": [
  {
   "cell_type": "markdown",
   "id": "4b95be5b-1cca-4e96-8fcc-071765810c0c",
   "metadata": {},
   "source": [
    "## Leer datos"
   ]
  },
  {
   "cell_type": "code",
   "execution_count": 1,
   "id": "f0ff2397-6f46-4324-b0d7-416886fe1bfc",
   "metadata": {},
   "outputs": [],
   "source": [
    "!pip install -q polars"
   ]
  },
  {
   "cell_type": "code",
   "execution_count": 2,
   "id": "79ba2f01-2b6d-40df-9ad4-811c011c1fd7",
   "metadata": {
    "scrolled": true
   },
   "outputs": [],
   "source": [
    "import polars as pl\n",
    "import boto3\n",
    "import os\n",
    "from botocore.exceptions import NoCredentialsError, ClientError\n",
    "\n",
    "def download_from_s3_and_read(bucket_name, s3_key, local_filename='temp_file.csv', \n",
    "                             aws_profile=None, region_name='us-east-1'):\n",
    "    \"\"\"\n",
    "    Descarga un archivo desde S3 y lo lee con Polars de manera lazy\n",
    "    \n",
    "    Args:\n",
    "        bucket_name (str): Nombre del bucket de S3\n",
    "        s3_key (str): Ruta del archivo en S3 (ej: 'data/credir_risk_reto.csv')\n",
    "        local_filename (str): Nombre temporal local para el archivo\n",
    "        region_name (str): Región de AWS\n",
    "    \n",
    "    Returns:\n",
    "        polars.LazyFrame: DataFrame lazy de Polars\n",
    "    \"\"\"\n",
    "    \n",
    "    try:\n",
    "        # Crear sesión de boto3\n",
    "        if aws_profile:\n",
    "            session = boto3.Session(profile_name=aws_profile)\n",
    "            s3_client = session.client('s3', region_name=region_name)\n",
    "        else:\n",
    "            s3_client = boto3.client('s3', region_name=region_name)\n",
    "        \n",
    "        # Descargar archivo desde S3\n",
    "        print(f\"Descargando {s3_key} desde el bucket {bucket_name}...\")\n",
    "        s3_client.download_file(bucket_name, s3_key, local_filename)\n",
    "        print(f\"Archivo descargado como {local_filename}\")\n",
    "        \n",
    "        # Leer el archivo de manera LAZY directamente desde el disco\n",
    "        df_lazy_initial = pl.scan_csv(local_filename, separator=';')\n",
    "        \n",
    "        return df_lazy_initial\n",
    "        \n",
    "    except NoCredentialsError:\n",
    "        print(\"Error: Credenciales de AWS no encontradas\")\n",
    "        raise\n",
    "    except ClientError as e:\n",
    "        print(f\"Error de cliente AWS: {e}\")\n",
    "        raise\n",
    "    except Exception as e:\n",
    "        print(f\"Error inesperado: {e}\")\n",
    "        raise\n"
   ]
  },
  {
   "cell_type": "code",
   "execution_count": 3,
   "id": "122b26c7-7d6f-417b-821e-4da379d27c9d",
   "metadata": {},
   "outputs": [
    {
     "name": "stdout",
     "output_type": "stream",
     "text": [
      "Descargando data/raw/credir_risk_reto.csv desde el bucket credit-risk-pipeline-preauth-prod-us-east-1-nxhm2...\n",
      "Archivo descargado como credir_risk_reto.csv\n"
     ]
    }
   ],
   "source": [
    "BUCKET_NAME = 'credit-risk-pipeline-preauth-prod-us-east-1-nxhm2'\n",
    "S3_KEY = 'data/raw/credir_risk_reto.csv'  # Archivo específico\n",
    "LOCAL_FILE = 'credir_risk_reto.csv'\n",
    "\n",
    "# Descargar y leer el archivo desde S3\n",
    "df_lazy_initial = download_from_s3_and_read(\n",
    "    bucket_name=BUCKET_NAME,\n",
    "    s3_key=S3_KEY,\n",
    "    local_filename=LOCAL_FILE,\n",
    "    region_name='us-east-1' \n",
    ")"
   ]
  },
  {
   "cell_type": "markdown",
   "id": "57a08e5e-a849-44b1-8d00-445292345aa0",
   "metadata": {},
   "source": [
    "## Feature Engineer\n",
    "Agregar datos extra apartir de los existentes\n",
    "*  Sacar un ratio de la deuda entre ahorros\n",
    "*  Sacar el pago mensual (sin intereses)"
   ]
  },
  {
   "cell_type": "code",
   "execution_count": 4,
   "id": "a555bcf9-55c6-4a27-b4a3-113c96d5ed4b",
   "metadata": {},
   "outputs": [],
   "source": [
    "def create_engineered_features_lazy(df_lazy: pl.LazyFrame) -> pl.LazyFrame:\n",
    "    \"\"\"\n",
    "    Toma un LazyFrame, añade los pasos para crear nuevas características al\n",
    "    plan de consulta, y devuelve el nuevo LazyFrame sin ejecutar nada.\n",
    "    \"\"\"\n",
    "    print(\"--- AÑADIENDO PASO DE INGENIERÍA DE CARACTERÍSTICAS AL PLAN LAZY ---\")\n",
    "    \n",
    "    account_map = {'no info': 0, 'little': 1, 'moderate': 2, 'rich': 3}\n",
    "\n",
    "    # Aplicamos with_columns a un LazyFrame. Esto no calcula nada,\n",
    "    # solo añade la operación al plan.\n",
    "    df_engineered_lazy = df_lazy.with_columns([\n",
    "        (pl.col('Credit amount') / pl.col('Duration')).alias('monthly_payment'),\n",
    "        (pl.col('Credit amount') / (pl.col('Saving accounts').replace_strict(account_map, default=0) + 1)).alias('debt_to_savings_ratio')\n",
    "    ])\n",
    "    \n",
    "    print(\"✅ Paso de ingeniería de características añadido al plan.\")\n",
    "    return df_engineered_lazy"
   ]
  },
  {
   "cell_type": "code",
   "execution_count": 5,
   "id": "a2c9f5a8-eaa4-4525-acfe-f83abb8b73ed",
   "metadata": {
    "scrolled": true
   },
   "outputs": [
    {
     "name": "stdout",
     "output_type": "stream",
     "text": [
      "--- AÑADIENDO PASO DE INGENIERÍA DE CARACTERÍSTICAS AL PLAN LAZY ---\n",
      "✅ Paso de ingeniería de características añadido al plan.\n"
     ]
    }
   ],
   "source": [
    "df_incomplete_engineered = create_engineered_features_lazy(df_lazy_initial)"
   ]
  },
  {
   "cell_type": "markdown",
   "id": "5e7bf1b7-017f-484b-8e90-ef65c75d9914",
   "metadata": {},
   "source": [
    "## Pipeline FULL API\n",
    "El LLM que se usa para crear la descripción, se usa para clasificar (generar las etiquetas \"bad risk\" y \"good risk\"). Así se reduce los costes de tener un modelo en local y es más rápido procesar.\n"
   ]
  },
  {
   "cell_type": "code",
   "execution_count": 23,
   "id": "51baf97d-ff03-4d53-b858-67c4f97c8269",
   "metadata": {},
   "outputs": [
    {
     "name": "stdout",
     "output_type": "stream",
     "text": [
      "✅ Cliente Bedrock creado exitosamente\n"
     ]
    }
   ],
   "source": [
    "import polars as pl\n",
    "import asyncio\n",
    "import nest_asyncio\n",
    "import functools\n",
    "import json\n",
    "import gc\n",
    "import re\n",
    "from concurrent.futures import ThreadPoolExecutor\n",
    "import boto3\n",
    "from botocore.exceptions import ClientError\n",
    "\n",
    "nest_asyncio.apply()\n",
    "\n",
    "# --- CONFIGURACIÓN DEL CLIENTE BEDROCK ---\n",
    "def create_bedrock_client(region_name='us-east-1'):\n",
    "    \"\"\"Crea y retorna el cliente de Bedrock\"\"\"\n",
    "    try:\n",
    "        bedrock_client = boto3.client(\n",
    "            service_name='bedrock-runtime',\n",
    "            region_name=region_name\n",
    "        )\n",
    "        print(\"✅ Cliente Bedrock creado exitosamente\")\n",
    "        return bedrock_client\n",
    "    except Exception as e:\n",
    "        print(f\"❌ Error creando cliente Bedrock: {e}\")\n",
    "        raise\n",
    "\n",
    "# Crear cliente Bedrock\n",
    "bedrock_client = create_bedrock_client()\n",
    "model_id = \"amazon.nova-lite-v1:0\"  # Modelo Nova Lite\n",
    "\n",
    "# --- PROMPT PARA PROCESAMIENTO POR LOTES ---\n",
    "PROMPT_BATCH = \"\"\"\n",
    "Act as a senior credit risk analyst. I will provide you with a list of clients. For each client in the list, perform two tasks:\n",
    "1.  Generate a concise, objective credit risk profile description (approx. 200 characters).\n",
    "2.  Classify the profile as either \"good risk\" or \"bad risk\".\n",
    "\n",
    "Here is the list of clients to process:\n",
    "{client_data_batch}\n",
    "\n",
    "Provide the output *only* as a single, valid JSON array where each element is an object corresponding to a client in the list. Maintain the original order.\n",
    "Example for a list of 2 clients:\n",
    "[\n",
    "  {{\n",
    "    \"description\": \"Description for client 1...\",\n",
    "    \"risk_label\": \"good risk\"\n",
    "  }},\n",
    "  {{\n",
    "    \"description\": \"Description for client 2...\",\n",
    "    \"risk_label\": \"bad risk\"\n",
    "  }}\n",
    "]\n",
    "\"\"\"\n",
    "\n",
    "def _format_batch_for_prompt(batch_of_dicts: list[dict]) -> str:\n",
    "    \"\"\"Formatea una lista de registros de clientes para inyectarla en el prompt.\"\"\"\n",
    "    formatted_strings = []\n",
    "    for i, row in enumerate(batch_of_dicts):\n",
    "        s = (f\"Client {i+1}: Age={row['Age']}, Sex={row['Sex']}, Job={row['Job']}, Housing={row['Housing']}, \"\n",
    "             f\"Saving accounts={row['Saving accounts']}, Checking account={row['Checking account']}, \"\n",
    "             f\"Credit amount={row['Credit amount']}, Duration={row['Duration']} months, Purpose={row['Purpose']}\"\n",
    "            f\"Monthly Payment={row['monthly_payment']}, Debt to Savings Ratio={row['debt_to_savings_ratio']}\")\n",
    "        formatted_strings.append(s)\n",
    "    return \"\\n\".join(formatted_strings)\n",
    "\n",
    "def _extract_json_array_from_response(text: str) -> str | None:\n",
    "    if not text: return None\n",
    "    match = re.search(r'\\[.*\\]', text, re.DOTALL)\n",
    "    if match: return match.group(0)\n",
    "    return None\n",
    "\n",
    "async def _process_records_batch_async(batch_of_dicts: list[dict], semaphore: asyncio.Semaphore, executor: ThreadPoolExecutor, client, model_id: str) -> list[dict]:\n",
    "    \"\"\"Toma un lote de registros, los envía en una sola llamada y procesa la respuesta usando Bedrock Converse.\"\"\"\n",
    "    client_data_str = _format_batch_for_prompt(batch_of_dicts)\n",
    "    prompt = PROMPT_BATCH.format(client_data_batch=client_data_str)\n",
    "    error_payload = [{\"description\": \"Error en lote\", \"risk_label\": \"Error en lote\"} for _ in batch_of_dicts]\n",
    "\n",
    "    async with semaphore:\n",
    "        loop = asyncio.get_running_loop()\n",
    "        try:\n",
    "            # Preparar el mensaje para Bedrock Converse API\n",
    "            messages = [\n",
    "                {\n",
    "                    \"role\": \"user\",\n",
    "                    \"content\": [{\"text\": prompt}]\n",
    "                }\n",
    "            ]\n",
    "            \n",
    "            # Configuración para la llamada a converse\n",
    "            converse_params = {\n",
    "                \"modelId\": model_id,\n",
    "                \"messages\": messages,\n",
    "                \"inferenceConfig\": {\n",
    "                    #\"maxTokens\": 8000,\n",
    "                    \"temperature\": 0.1,\n",
    "                    \"topP\": 0.9\n",
    "                }\n",
    "            }\n",
    "            \n",
    "            # Ejecutar la llamada de forma asíncrona\n",
    "            converse_func = functools.partial(client.converse, **converse_params)\n",
    "            response = await loop.run_in_executor(executor, converse_func)\n",
    "            \n",
    "            # --- LÓGICA DE PROCESAMIENTO DE RESPUESTA BEDROCK ---\n",
    "            \n",
    "            # 1. Comprobar si la respuesta es válida\n",
    "            if not response:\n",
    "                return [{\"description\": \"Respuesta nula de Bedrock\", \"risk_label\": \"Error API\"} for _ in batch_of_dicts]\n",
    "\n",
    "            # 2. Comprobar si hay un error de stop reason\n",
    "            stop_reason = response.get('stopReason', '')\n",
    "            if stop_reason in ['content_filtered', 'guardrail_intervened']:\n",
    "                return [{\"description\": f\"Bloqueado: {stop_reason}\", \"risk_label\": \"Error Seguridad\"} for _ in batch_of_dicts]\n",
    "            \n",
    "            # 3. Intentar obtener el texto de la respuesta\n",
    "            raw_text = \"\"\n",
    "            try:\n",
    "                output = response.get('output', {})\n",
    "                message = output.get('message', {})\n",
    "                content = message.get('content', [])\n",
    "                \n",
    "                if content and len(content) > 0:\n",
    "                    raw_text = content[0].get('text', '')\n",
    "                \n",
    "            except Exception as e:\n",
    "                print(f\"Error extrayendo texto de respuesta: {e}\")\n",
    "                return error_payload\n",
    "            \n",
    "            # 4. Procesar el texto si lo obtuvimos\n",
    "            if raw_text:\n",
    "                json_text = _extract_json_array_from_response(raw_text)\n",
    "                if json_text:\n",
    "                    try:\n",
    "                        parsed_data = json.loads(json_text)\n",
    "                        if isinstance(parsed_data, list) and len(parsed_data) == len(batch_of_dicts):\n",
    "                            return parsed_data\n",
    "                    except json.JSONDecodeError as e:\n",
    "                        print(f\"Error parsing JSON: {e}\")\n",
    "                        return error_payload\n",
    "            \n",
    "            # Si ninguna de las condiciones anteriores se cumple, devolvemos un error\n",
    "            return error_payload\n",
    "\n",
    "        except ClientError as e:\n",
    "            error_code = e.response['Error']['Code']\n",
    "            return [{\"description\": f\"Error Bedrock {error_code}: {e}\", \"risk_label\": \"Error API\"} for _ in batch_of_dicts]\n",
    "        except Exception as e:\n",
    "            return [{\"description\": f\"Error en API: {e}\", \"risk_label\": \"Error en API\"} for _ in batch_of_dicts]\n",
    "\n",
    "def run_batch_pipeline_bedrock(df: pl.DataFrame, batch_api_size: int, max_concurrent_calls: int, client, model_id: str) -> pl.DataFrame:\n",
    "    \"\"\"Orquesta todo el pipeline usando Bedrock Nova Lite con Converse API.\"\"\"\n",
    "    print(f\"--- INICIANDO PIPELINE POR LOTES CON BEDROCK NOVA LITE ---\")\n",
    "    print(f\"Modelo: {model_id}\")\n",
    "    \n",
    "    async def main_async_logic():\n",
    "        all_records = df.to_dicts()\n",
    "        record_batches = [all_records[i:i + batch_api_size] for i in range(0, len(all_records), batch_api_size)]\n",
    "        print(f\"INFO: Se procesarán {len(all_records)} registros en {len(record_batches)} llamadas a la API.\")\n",
    "        \n",
    "        semaphore = asyncio.Semaphore(max_concurrent_calls)\n",
    "        with ThreadPoolExecutor(max_workers=max_concurrent_calls) as executor:\n",
    "            tasks = [_process_records_batch_async(batch, semaphore, executor, client, model_id) for batch in record_batches]\n",
    "            results_list_of_lists = await asyncio.gather(*tasks)\n",
    "        \n",
    "        final_results = [item for sublist in results_list_of_lists for item in sublist]\n",
    "        descriptions = [res.get(\"description\", \"Error de Parseo\") for res in final_results]\n",
    "        targets = [res.get(\"risk_label\", \"Error de Parseo\") for res in final_results]\n",
    "        \n",
    "        return df.with_columns([pl.Series(\"description\", descriptions), pl.Series(\"target\", targets)])\n",
    "\n",
    "    final_df = asyncio.run(main_async_logic())\n",
    "    gc.collect()\n",
    "    print(\"\\n✅ ¡PIPELINE COMPLETADO CON BEDROCK!\")\n",
    "    return final_df\n",
    "\n"
   ]
  },
  {
   "cell_type": "markdown",
   "id": "8f83d39a-db0f-4342-8954-d3260d2a9cd6",
   "metadata": {},
   "source": [
    "### Ejecutar el pipeline"
   ]
  },
  {
   "cell_type": "code",
   "execution_count": 24,
   "id": "1aa1f39b-edb3-494a-919c-afe5fa90c99e",
   "metadata": {},
   "outputs": [
    {
     "name": "stdout",
     "output_type": "stream",
     "text": [
      "--- INICIANDO PIPELINE POR LOTES CON BEDROCK NOVA LITE ---\n",
      "Modelo: amazon.nova-lite-v1:0\n",
      "INFO: Se procesarán 1000 registros en 50 llamadas a la API.\n",
      "\n",
      "✅ ¡PIPELINE COMPLETADO CON BEDROCK!\n",
      "\n",
      "--- Vista Previa del DataFrame Final ---\n",
      "shape: (5, 13)\n",
      "┌─────┬────────┬─────┬─────────┬───┬───────────────────┬──────────────────┬─────────────┬──────────┐\n",
      "│ Age ┆ Sex    ┆ Job ┆ Housing ┆ … ┆ monthly_payment   ┆ debt_to_savings_ ┆ description ┆ target   │\n",
      "│ --- ┆ ---    ┆ --- ┆ ---     ┆   ┆ ---               ┆ ratio            ┆ ---         ┆ ---      │\n",
      "│ i64 ┆ str    ┆ i64 ┆ str     ┆   ┆ f64               ┆ ---              ┆ str         ┆ str      │\n",
      "│     ┆        ┆     ┆         ┆   ┆                   ┆ f64              ┆             ┆          │\n",
      "╞═════╪════════╪═════╪═════════╪═══╪═══════════════════╪══════════════════╪═════════════╪══════════╡\n",
      "│ 67  ┆ male   ┆ 2   ┆ own     ┆ … ┆ 194.833333        ┆ 1169.0           ┆ 67-year-old ┆ bad risk │\n",
      "│     ┆        ┆     ┆         ┆   ┆                   ┆                  ┆ male with   ┆          │\n",
      "│     ┆        ┆     ┆         ┆   ┆                   ┆                  ┆ stable j…   ┆          │\n",
      "│ 22  ┆ female ┆ 2   ┆ own     ┆ … ┆ 123.979167        ┆ 2975.5           ┆ 22-year-old ┆ bad risk │\n",
      "│     ┆        ┆     ┆         ┆   ┆                   ┆                  ┆ female with ┆          │\n",
      "│     ┆        ┆     ┆         ┆   ┆                   ┆                  ┆ stable…     ┆          │\n",
      "│ 49  ┆ male   ┆ 1   ┆ own     ┆ … ┆ 174.666667        ┆ 1048.0           ┆ 49-year-old ┆ bad risk │\n",
      "│     ┆        ┆     ┆         ┆   ┆                   ┆                  ┆ male with   ┆          │\n",
      "│     ┆        ┆     ┆         ┆   ┆                   ┆                  ┆ stable j…   ┆          │\n",
      "│ 45  ┆ male   ┆ 2   ┆ free    ┆ … ┆ 187.666667        ┆ 3941.0           ┆ 45-year-old ┆ bad risk │\n",
      "│     ┆        ┆     ┆         ┆   ┆                   ┆                  ┆ male with   ┆          │\n",
      "│     ┆        ┆     ┆         ┆   ┆                   ┆                  ┆ stable j…   ┆          │\n",
      "│ 53  ┆ male   ┆ 2   ┆ free    ┆ … ┆ 202.916667        ┆ 2435.0           ┆ 53-year-old ┆ bad risk │\n",
      "│     ┆        ┆     ┆         ┆   ┆                   ┆                  ┆ male with   ┆          │\n",
      "│     ┆        ┆     ┆         ┆   ┆                   ┆                  ┆ stable j…   ┆          │\n",
      "└─────┴────────┴─────┴─────────┴───┴───────────────────┴──────────────────┴─────────────┴──────────┘\n",
      "\n",
      "✅ ÉXITO: Todas las filas fueron procesadas sin errores aparentes.\n"
     ]
    }
   ],
   "source": [
    "try:\n",
    "    # Se dejo en 20 porque no ha dado errores (35-50-100 si daban)\n",
    "    final_df_generated = run_batch_pipeline_bedrock(\n",
    "        df=df_incomplete_engineered.collect(),\n",
    "        batch_api_size=20,         # Cuántos registros enviar en CADA llamada a la API.\n",
    "        max_concurrent_calls=5,    # Cuántas llamadas a la API hacer en paralelo.\n",
    "        client=bedrock_client,\n",
    "        model_id=model_id\n",
    "    )\n",
    "\n",
    "    print(\"\\n--- Vista Previa del DataFrame Final ---\")\n",
    "    print(final_df_generated.head())\n",
    "\n",
    "    error_count = final_df_generated.filter(pl.col('target').str.contains(\"Error\")).height\n",
    "    if error_count > 0:\n",
    "        print(f\"\\n❌ ADVERTENCIA: Se encontraron {error_count} filas con errores de procesamiento.\")\n",
    "        print(\"Muestra de filas con errores:\")\n",
    "        print(final_df_generated.filter(pl.col('target').str.contains(\"Error\")).head())\n",
    "    else:\n",
    "        print(\"\\n✅ ÉXITO: Todas las filas fueron procesadas sin errores aparentes.\")\n",
    "\n",
    "except Exception as e:\n",
    "    print(f\"\\n❌ ERROR: El pipeline falló. Causa: {e}\")"
   ]
  },
  {
   "cell_type": "markdown",
   "id": "77c8cf9e-60ea-4f83-9dc6-e696f2a77b54",
   "metadata": {},
   "source": [
    "### Guarda el Dataframe sin preprocesar"
   ]
  },
  {
   "cell_type": "code",
   "execution_count": 39,
   "id": "79646500-1681-4bd0-981e-b69338c1c1de",
   "metadata": {},
   "outputs": [
    {
     "name": "stdout",
     "output_type": "stream",
     "text": [
      "Intentando guardar el DataFrame en S3 en la ruta: s3://credit-risk-pipeline-preauth-prod-us-east-1-nxhm2/data/processed/final_descriptions_targets_extra_features.csv\n",
      "DataFrame guardado exitosamente en S3: s3://credit-risk-pipeline-preauth-prod-us-east-1-nxhm2/data/processed/final_descriptions_targets_extra_features.csv\n"
     ]
    }
   ],
   "source": [
    "import polars as pl\n",
    "\n",
    "s3_file_name = \"final_descriptions_targets_extra_features.csv\" \n",
    "s3_key_path = f\"data/processed/{s3_file_name}\"\n",
    "\n",
    "# Crea la URI (Uniform Resource Identifier) completa para S3.\n",
    "output_s3_uri = f\"s3://{BUCKET_NAME}/{s3_key_path}\"\n",
    "\n",
    "print(f\"Intentando guardar el DataFrame en S3 en la ruta: {output_s3_uri}\")\n",
    "\n",
    "try:\n",
    "    final_df_generated.write_csv(output_s3_uri)\n",
    "    print(f\"DataFrame guardado exitosamente en S3: {output_s3_uri}\")\n",
    "\n",
    "except Exception as e:\n",
    "    print(f\"Error al intentar guardar directamente en S3 con Polars: {e}\")\n",
    "    print(\"Verifica que las librerías 'fsspec' y 's3fs' estén instaladas y que el rol de SageMaker tenga permisos de escritura en el bucket y la ruta especificada.\")"
   ]
  },
  {
   "cell_type": "markdown",
   "id": "2c5443fc-9497-45c2-a37a-02e8ca5dccc4",
   "metadata": {
    "jp-MarkdownHeadingCollapsed": true
   },
   "source": [
    "## Preprocesamiento\n",
    "Lee el dataframe/csv, preprocesa la información y la divide en train y test"
   ]
  },
  {
   "cell_type": "code",
   "execution_count": 27,
   "id": "d3858146-bf25-48e8-8f94-3d7a012b964d",
   "metadata": {},
   "outputs": [
    {
     "name": "stdout",
     "output_type": "stream",
     "text": [
      "DataFrame cargado como LazyFrame:\n",
      "shape: (5, 13)\n",
      "┌─────┬────────┬─────┬─────────┬───┬───────────────────┬──────────────────┬─────────────┬──────────┐\n",
      "│ Age ┆ Sex    ┆ Job ┆ Housing ┆ … ┆ monthly_payment   ┆ debt_to_savings_ ┆ description ┆ target   │\n",
      "│ --- ┆ ---    ┆ --- ┆ ---     ┆   ┆ ---               ┆ ratio            ┆ ---         ┆ ---      │\n",
      "│ i64 ┆ str    ┆ i64 ┆ str     ┆   ┆ f64               ┆ ---              ┆ str         ┆ str      │\n",
      "│     ┆        ┆     ┆         ┆   ┆                   ┆ f64              ┆             ┆          │\n",
      "╞═════╪════════╪═════╪═════════╪═══╪═══════════════════╪══════════════════╪═════════════╪══════════╡\n",
      "│ 67  ┆ male   ┆ 2   ┆ own     ┆ … ┆ 194.833333        ┆ 1169.0           ┆ 67-year-old ┆ bad risk │\n",
      "│     ┆        ┆     ┆         ┆   ┆                   ┆                  ┆ male with   ┆          │\n",
      "│     ┆        ┆     ┆         ┆   ┆                   ┆                  ┆ stable j…   ┆          │\n",
      "│ 22  ┆ female ┆ 2   ┆ own     ┆ … ┆ 123.979167        ┆ 2975.5           ┆ 22-year-old ┆ bad risk │\n",
      "│     ┆        ┆     ┆         ┆   ┆                   ┆                  ┆ female with ┆          │\n",
      "│     ┆        ┆     ┆         ┆   ┆                   ┆                  ┆ stable…     ┆          │\n",
      "│ 49  ┆ male   ┆ 1   ┆ own     ┆ … ┆ 174.666667        ┆ 1048.0           ┆ 49-year-old ┆ bad risk │\n",
      "│     ┆        ┆     ┆         ┆   ┆                   ┆                  ┆ male with   ┆          │\n",
      "│     ┆        ┆     ┆         ┆   ┆                   ┆                  ┆ stable j…   ┆          │\n",
      "│ 45  ┆ male   ┆ 2   ┆ free    ┆ … ┆ 187.666667        ┆ 3941.0           ┆ 45-year-old ┆ bad risk │\n",
      "│     ┆        ┆     ┆         ┆   ┆                   ┆                  ┆ male with   ┆          │\n",
      "│     ┆        ┆     ┆         ┆   ┆                   ┆                  ┆ stable j…   ┆          │\n",
      "│ 53  ┆ male   ┆ 2   ┆ free    ┆ … ┆ 202.916667        ┆ 2435.0           ┆ 53-year-old ┆ bad risk │\n",
      "│     ┆        ┆     ┆         ┆   ┆                   ┆                  ┆ male with   ┆          │\n",
      "│     ┆        ┆     ┆         ┆   ┆                   ┆                  ┆ stable j…   ┆          │\n",
      "└─────┴────────┴─────┴─────────┴───┴───────────────────┴──────────────────┴─────────────┴──────────┘\n",
      "Schema([('Age', Int64), ('Sex', String), ('Job', Int64), ('Housing', String), ('Saving accounts', String), ('Checking account', String), ('Credit amount', Int64), ('Duration', Int64), ('Purpose', String), ('monthly_payment', Float64), ('debt_to_savings_ratio', Float64), ('description', String), ('target', String)])\n"
     ]
    }
   ],
   "source": [
    "import polars as pl\n",
    "\n",
    "df_encoded_for_ml = final_df_generated\n",
    "\n",
    "print(\"DataFrame cargado como LazyFrame:\")\n",
    "print(df_encoded_for_ml.head())\n",
    "print(df_encoded_for_ml.schema)"
   ]
  },
  {
   "cell_type": "code",
   "execution_count": 28,
   "id": "174bc911-7999-4d43-860f-bfcd2a77cd70",
   "metadata": {},
   "outputs": [
    {
     "name": "stdout",
     "output_type": "stream",
     "text": [
      "Requirement already satisfied: scikit-learn in /home/ec2-user/anaconda3/envs/python3/lib/python3.10/site-packages (1.6.1)\n",
      "Collecting scikit-learn\n",
      "  Using cached scikit_learn-1.7.1-cp310-cp310-manylinux2014_x86_64.manylinux_2_17_x86_64.whl.metadata (11 kB)\n",
      "Requirement already satisfied: imblearn in /home/ec2-user/anaconda3/envs/python3/lib/python3.10/site-packages (0.0)\n",
      "Requirement already satisfied: matplotlib in /home/ec2-user/anaconda3/envs/python3/lib/python3.10/site-packages (3.10.3)\n",
      "Requirement already satisfied: seaborn in /home/ec2-user/anaconda3/envs/python3/lib/python3.10/site-packages (0.13.2)\n",
      "Requirement already satisfied: numpy>=1.22.0 in /home/ec2-user/anaconda3/envs/python3/lib/python3.10/site-packages (from scikit-learn) (1.26.4)\n",
      "Requirement already satisfied: scipy>=1.8.0 in /home/ec2-user/anaconda3/envs/python3/lib/python3.10/site-packages (from scikit-learn) (1.15.2)\n",
      "Requirement already satisfied: joblib>=1.2.0 in /home/ec2-user/anaconda3/envs/python3/lib/python3.10/site-packages (from scikit-learn) (1.5.1)\n",
      "Requirement already satisfied: threadpoolctl>=3.1.0 in /home/ec2-user/anaconda3/envs/python3/lib/python3.10/site-packages (from scikit-learn) (3.6.0)\n",
      "Requirement already satisfied: imbalanced-learn in /home/ec2-user/anaconda3/envs/python3/lib/python3.10/site-packages (from imblearn) (0.13.0)\n",
      "Requirement already satisfied: contourpy>=1.0.1 in /home/ec2-user/anaconda3/envs/python3/lib/python3.10/site-packages (from matplotlib) (1.3.2)\n",
      "Requirement already satisfied: cycler>=0.10 in /home/ec2-user/anaconda3/envs/python3/lib/python3.10/site-packages (from matplotlib) (0.12.1)\n",
      "Requirement already satisfied: fonttools>=4.22.0 in /home/ec2-user/anaconda3/envs/python3/lib/python3.10/site-packages (from matplotlib) (4.58.4)\n",
      "Requirement already satisfied: kiwisolver>=1.3.1 in /home/ec2-user/anaconda3/envs/python3/lib/python3.10/site-packages (from matplotlib) (1.4.7)\n",
      "Requirement already satisfied: packaging>=20.0 in /home/ec2-user/anaconda3/envs/python3/lib/python3.10/site-packages (from matplotlib) (24.2)\n",
      "Requirement already satisfied: pillow>=8 in /home/ec2-user/anaconda3/envs/python3/lib/python3.10/site-packages (from matplotlib) (11.2.1)\n",
      "Requirement already satisfied: pyparsing>=2.3.1 in /home/ec2-user/anaconda3/envs/python3/lib/python3.10/site-packages (from matplotlib) (3.2.3)\n",
      "Requirement already satisfied: python-dateutil>=2.7 in /home/ec2-user/anaconda3/envs/python3/lib/python3.10/site-packages (from matplotlib) (2.9.0.post0)\n",
      "Requirement already satisfied: pandas>=1.2 in /home/ec2-user/anaconda3/envs/python3/lib/python3.10/site-packages (from seaborn) (2.2.3)\n",
      "Requirement already satisfied: pytz>=2020.1 in /home/ec2-user/anaconda3/envs/python3/lib/python3.10/site-packages (from pandas>=1.2->seaborn) (2024.1)\n",
      "Requirement already satisfied: tzdata>=2022.7 in /home/ec2-user/anaconda3/envs/python3/lib/python3.10/site-packages (from pandas>=1.2->seaborn) (2025.2)\n",
      "Requirement already satisfied: six>=1.5 in /home/ec2-user/anaconda3/envs/python3/lib/python3.10/site-packages (from python-dateutil>=2.7->matplotlib) (1.17.0)\n",
      "Requirement already satisfied: sklearn-compat<1,>=0.1 in /home/ec2-user/anaconda3/envs/python3/lib/python3.10/site-packages (from imbalanced-learn->imblearn) (0.1.3)\n",
      "Note: you may need to restart the kernel to use updated packages.\n"
     ]
    }
   ],
   "source": [
    "pip install --upgrade scikit-learn imblearn matplotlib seaborn "
   ]
  },
  {
   "cell_type": "code",
   "execution_count": 29,
   "id": "7e8b9994-ce15-4896-a363-201931c142f0",
   "metadata": {},
   "outputs": [
    {
     "name": "stdout",
     "output_type": "stream",
     "text": [
      "Note: you may need to restart the kernel to use updated packages.\n"
     ]
    }
   ],
   "source": [
    "pip install --upgrade numexpr>=2.8.4 #numexpr==2.8.4"
   ]
  },
  {
   "cell_type": "code",
   "execution_count": 30,
   "id": "dd7f04ae-3d5a-4a0e-b008-1db9b83c8425",
   "metadata": {},
   "outputs": [
    {
     "name": "stdout",
     "output_type": "stream",
     "text": [
      "Note: you may need to restart the kernel to use updated packages.\n"
     ]
    }
   ],
   "source": [
    "pip install --upgrade xgboost>=2.1.4\n"
   ]
  },
  {
   "cell_type": "code",
   "execution_count": 12,
   "id": "814fe2f4-735e-46f6-94e0-8a1a45cb3858",
   "metadata": {},
   "outputs": [],
   "source": [
    "#!pip install scikit-learn==1.3.2 imbalanced-learn==0.11.0\n"
   ]
  },
  {
   "cell_type": "code",
   "execution_count": 31,
   "id": "39c53c30-3e1d-4ada-8b2d-37c9eae82d18",
   "metadata": {},
   "outputs": [],
   "source": [
    "import polars as pl\n",
    "import numpy as np\n",
    "from sklearn.model_selection import train_test_split\n",
    "from sklearn.compose import ColumnTransformer\n",
    "from sklearn.preprocessing import OneHotEncoder, OrdinalEncoder, StandardScaler, LabelEncoder\n",
    "from sklearn.feature_extraction.text import TfidfVectorizer\n",
    "from imblearn.over_sampling import SMOTE\n",
    "\n",
    "def prepare_data_for_ml(df: pl.DataFrame, target_col: str = 'target') -> tuple:\n",
    "    \"\"\"\n",
    "    Toma un DataFrame ya enriquecido, lo divide, lo preprocesa y aplica SMOTE.\n",
    "    \"\"\"\n",
    "    print(\"--- INICIANDO PREPARACIÓN FINAL DE DATOS (PARA MODELADO) ---\")\n",
    "\n",
    "    # --- PASO 1: Dividir los datos ---\n",
    "    X = df.drop(target_col)\n",
    "    y = df[target_col]\n",
    "    X_train, X_temp, y_train, y_temp = train_test_split(X, y, test_size=0.3, random_state=42, stratify=y)\n",
    "    X_val, X_test, y_val, y_test = train_test_split(X_temp, y_temp, test_size=0.5, random_state=42, stratify=y_temp)\n",
    "    print(\"✅ Datos divididos en conjuntos de entrenamiento, validación y prueba.\")\n",
    "\n",
    "    # --- PASO 2: Definir y entrenar el preprocesador ---\n",
    "    # Identificamos las columnas por tipo dinámicamente a partir de los datos de entrenamiento\n",
    "    ordinal_cols = ['Saving accounts', 'Checking account']\n",
    "    account_order = ['no info', 'little', 'moderate', 'rich']\n",
    "    text_col = 'description'\n",
    "    # Las columnas numéricas son todas las columnas de tipo número\n",
    "    numeric_cols = X_train.select(pl.col(pl.Float64, pl.Int64)).columns\n",
    "    # Las de OHE son las de texto que no son ni ordinales ni la de descripción\n",
    "    one_hot_cols = [col for col in X_train.select(pl.col(pl.Utf8, pl.Categorical)).columns if col not in ordinal_cols + [text_col]]\n",
    "    \n",
    "    print(f\"INFO: Se han identificado {len(numeric_cols)} columnas numéricas.\")\n",
    "    print(f\"INFO: Se han identificado {len(one_hot_cols)} columnas para One-Hot Encoding.\")\n",
    "\n",
    "    preprocessor = ColumnTransformer(\n",
    "        transformers=[\n",
    "            ('num', StandardScaler(), numeric_cols),\n",
    "            ('ord', OrdinalEncoder(categories=[account_order, account_order], handle_unknown='use_encoded_value', unknown_value=-1), ordinal_cols),\n",
    "            ('ohe', OneHotEncoder(handle_unknown='ignore', drop='first'), one_hot_cols),\n",
    "            ('tfidf', TfidfVectorizer(max_features=100, stop_words='english'), text_col)\n",
    "        ],\n",
    "        remainder='drop'\n",
    "    )\n",
    "    \n",
    "    # Entrenar y transformar las características X\n",
    "    X_train_final = preprocessor.fit_transform(X_train)\n",
    "    X_val_final = preprocessor.transform(X_val)\n",
    "    X_test_final = preprocessor.transform(X_test)\n",
    "    print(\"✅ Características (X) preprocesadas.\")\n",
    "\n",
    "    # --- PASO 3: Codificar el target y aplicar SMOTE ---\n",
    "    target_encoder = LabelEncoder()\n",
    "    y_train_final = target_encoder.fit_transform(y_train)\n",
    "    y_val_final = target_encoder.transform(y_val)\n",
    "    y_test_final = target_encoder.transform(y_test)\n",
    "    print(\"✅ Target (y) codificado a formato binario.\")\n",
    "    \n",
    "    # Aplicar SMOTE solo a los datos de entrenamiento\n",
    "    smote = SMOTE(random_state=42)\n",
    "    X_train_smote, y_train_smote = smote.fit_resample(X_train_final, y_train_final)\n",
    "    print(\"✅ SMOTE aplicado al conjunto de entrenamiento.\")\n",
    "    \n",
    "    print(\"\\n¡PREPARACIÓN COMPLETA! Las variables están listas para ser usadas en tu celda de entrenamiento.\")\n",
    "    \n",
    "    return (X_train_smote, y_train_smote, X_val_final, y_val_final, \n",
    "            X_test_final, y_test_final, preprocessor, target_encoder)\n",
    "\n"
   ]
  },
  {
   "cell_type": "markdown",
   "id": "830e625d-688d-4231-a44f-ef04decf602b",
   "metadata": {},
   "source": [
    "### Preprocesar"
   ]
  },
  {
   "cell_type": "code",
   "execution_count": 32,
   "id": "d1603d6a-cbdf-43e9-abbc-93b7aa093022",
   "metadata": {},
   "outputs": [],
   "source": [
    "df_to_preprocess=df_encoded_for_ml"
   ]
  },
  {
   "cell_type": "code",
   "execution_count": 33,
   "id": "120c1753-8f08-4682-8162-b17bb53e684a",
   "metadata": {
    "scrolled": true
   },
   "outputs": [
    {
     "name": "stdout",
     "output_type": "stream",
     "text": [
      "--- INICIANDO PREPARACIÓN FINAL DE DATOS (PARA MODELADO) ---\n",
      "✅ Datos divididos en conjuntos de entrenamiento, validación y prueba.\n",
      "INFO: Se han identificado 6 columnas numéricas.\n",
      "INFO: Se han identificado 3 columnas para One-Hot Encoding.\n",
      "✅ Características (X) preprocesadas.\n",
      "✅ Target (y) codificado a formato binario.\n",
      "✅ SMOTE aplicado al conjunto de entrenamiento.\n",
      "\n",
      "¡PREPARACIÓN COMPLETA! Las variables están listas para ser usadas en tu celda de entrenamiento.\n"
     ]
    }
   ],
   "source": [
    "(\n",
    "    X_train_smote, y_train_smote,\n",
    "    X_val_final, y_val_final,\n",
    "    X_test_final, y_test_final,\n",
    "    preprocessor, target_encoder\n",
    ") = prepare_data_for_ml(df_to_preprocess)\n"
   ]
  },
  {
   "cell_type": "code",
   "execution_count": 34,
   "id": "376cbf78-95f8-43f2-bd54-3024e619d58b",
   "metadata": {},
   "outputs": [
    {
     "name": "stdout",
     "output_type": "stream",
     "text": [
      "--- Guardando datos preprocesados y transformadores en S3 ---\n",
      "✅ Guardado X_train_smote en s3://credit-risk-pipeline-preauth-prod-us-east-1-nxhm2/data/processed/X_train_smote.npz\n",
      "✅ Guardado y_train_smote en s3://credit-risk-pipeline-preauth-prod-us-east-1-nxhm2/data/processed/y_train_smote.npy\n",
      "✅ Guardado X_val_final en s3://credit-risk-pipeline-preauth-prod-us-east-1-nxhm2/data/processed/X_val_final.npz\n",
      "✅ Guardado y_val_final en s3://credit-risk-pipeline-preauth-prod-us-east-1-nxhm2/data/processed/y_val_final.npy\n",
      "✅ Guardado X_test_final en s3://credit-risk-pipeline-preauth-prod-us-east-1-nxhm2/data/processed/X_test_final.npz\n",
      "✅ Guardado y_test_final en s3://credit-risk-pipeline-preauth-prod-us-east-1-nxhm2/data/processed/y_test_final.npy\n",
      "✅ Guardado preprocessor en s3://credit-risk-pipeline-preauth-prod-us-east-1-nxhm2/model_artifacts/preprocessor.joblib\n",
      "✅ Guardado target_encoder en s3://credit-risk-pipeline-preauth-prod-us-east-1-nxhm2/model_artifacts/target_encoder.joblib\n",
      "\n",
      "✅ Todos los archivos guardados exitosamente en S3.\n",
      "\n",
      "--- Limpiando archivos temporales locales ---\n",
      "🗑️ Eliminado /tmp/X_train_smote.npz\n",
      "🗑️ Eliminado /tmp/y_train_smote.npy\n",
      "🗑️ Eliminado /tmp/X_val_final.npz\n",
      "🗑️ Eliminado /tmp/y_val_final.npy\n",
      "🗑️ Eliminado /tmp/X_test_final.npz\n",
      "🗑️ Eliminado /tmp/y_test_final.npy\n",
      "🗑️ Eliminado /tmp/preprocessor.joblib\n",
      "🗑️ Eliminado /tmp/target_encoder.joblib\n"
     ]
    }
   ],
   "source": [
    "import numpy as np\n",
    "import joblib\n",
    "import boto3\n",
    "from scipy.sparse import save_npz\n",
    "import os\n",
    "\n",
    "# Asegúrate de que tus variables (X_train_smote, etc.) y BUCKET_NAME existan\n",
    "\n",
    "PROCESSED_DATA_PREFIX = \"data/processed/\"\n",
    "MODEL_ARTIFACTS_PREFIX = \"model_artifacts/\"\n",
    "s3_client = boto3.client('s3')\n",
    "\n",
    "data_to_save = {\n",
    "    \"X_train_smote\": (X_train_smote, save_npz),\n",
    "    \"y_train_smote\": (y_train_smote, np.save),\n",
    "    \"X_val_final\":   (X_val_final, save_npz),\n",
    "    \"y_val_final\":   (y_val_final, np.save),\n",
    "    \"X_test_final\":  (X_test_final, save_npz),\n",
    "    \"y_test_final\":  (y_test_final, np.save),\n",
    "    \"preprocessor\":  (preprocessor, joblib.dump),\n",
    "    \"target_encoder\": (target_encoder, joblib.dump),\n",
    "}\n",
    "\n",
    "# Lista para guardar las rutas de los archivos locales creados\n",
    "local_files_created = []\n",
    "\n",
    "try:\n",
    "    print(\"--- Guardando datos preprocesados y transformadores en S3 ---\")\n",
    "    for name, (obj, saver) in data_to_save.items():\n",
    "        \n",
    "        # 1. Lógica mejorada para determinar la extensión y la ruta\n",
    "        if saver == save_npz:\n",
    "            ext = \".npz\"\n",
    "            prefix = PROCESSED_DATA_PREFIX\n",
    "        elif saver == np.save:\n",
    "            ext = \".npy\"\n",
    "            prefix = PROCESSED_DATA_PREFIX\n",
    "        elif saver == joblib.dump:\n",
    "            ext = \".joblib\"\n",
    "            prefix = MODEL_ARTIFACTS_PREFIX\n",
    "        else:\n",
    "            # Salvaguarda por si se añade un nuevo tipo de guardado\n",
    "            raise TypeError(f\"El guardador para '{name}' no es reconocido.\")\n",
    "\n",
    "        local_path = f\"/tmp/{name}{ext}\"\n",
    "        s3_key = f\"{prefix}{name}{ext}\"\n",
    "        local_files_created.append(local_path) # Añadir a la lista para limpieza\n",
    "\n",
    "        # 2. Llamada correcta a las funciones de guardado\n",
    "        if saver == joblib.dump:\n",
    "            # La sintaxis correcta es: saver(objeto, ruta)\n",
    "            saver(obj, local_path)\n",
    "        else:\n",
    "            # La sintaxis para np.save y save_npz es: saver(ruta, objeto)\n",
    "            saver(local_path, obj)\n",
    "            \n",
    "        s3_client.upload_file(local_path, BUCKET_NAME, s3_key)\n",
    "        print(f\"✅ Guardado {name} en s3://{BUCKET_NAME}/{s3_key}\")\n",
    "\n",
    "    print(\"\\n✅ Todos los archivos guardados exitosamente en S3.\")\n",
    "\n",
    "except (TypeError, Exception) as e:\n",
    "    print(f\"❌ ERROR al guardar archivos en S3: {e}\")\n",
    "\n",
    "finally:\n",
    "    # 3. Lógica de limpieza mejorada\n",
    "    print(\"\\n--- Limpiando archivos temporales locales ---\")\n",
    "    for file_path in local_files_created:\n",
    "        if os.path.exists(file_path):\n",
    "            os.remove(file_path)\n",
    "            print(f\"🗑️ Eliminado {file_path}\")"
   ]
  },
  {
   "cell_type": "markdown",
   "id": "f232edfc-8847-49f5-8ef9-8bfe716cd105",
   "metadata": {},
   "source": [
    "## Entrenamiento del modelo y validación\n",
    "Se entrena el modelo XGBOOST con los datos preprocesados y se valida con la información separada"
   ]
  },
  {
   "cell_type": "code",
   "execution_count": 35,
   "id": "00e2aa8d-de3d-4135-aa29-05219c07b300",
   "metadata": {},
   "outputs": [],
   "source": [
    "!pip install -q scikit-optimize\n"
   ]
  },
  {
   "cell_type": "markdown",
   "id": "dd51d147-19a3-4f13-b2aa-086f6bfc4f9b",
   "metadata": {},
   "source": [
    "## Entrenamiento"
   ]
  },
  {
   "cell_type": "code",
   "execution_count": 36,
   "id": "04eb839c-ec5b-4399-af37-9943e54226f6",
   "metadata": {},
   "outputs": [
    {
     "name": "stdout",
     "output_type": "stream",
     "text": [
      "scikit-learn version: 1.6.1\n",
      "xgboost version: 3.0.2\n",
      "scikit-optimize version: 0.10.2\n"
     ]
    }
   ],
   "source": [
    "# ==============================================================================\n",
    "# PASO 3: Verificar las versiones instaladas\n",
    "# ==============================================================================\n",
    "import sklearn\n",
    "import xgboost\n",
    "import skopt\n",
    "\n",
    "print(f\"scikit-learn version: {sklearn.__version__}\")\n",
    "print(f\"xgboost version: {xgboost.__version__}\")\n",
    "print(f\"scikit-optimize version: {skopt.__version__}\")"
   ]
  },
  {
   "cell_type": "code",
   "execution_count": 37,
   "id": "6eee4391-5a76-4d36-a80a-e0c0e30647e0",
   "metadata": {},
   "outputs": [
    {
     "name": "stdout",
     "output_type": "stream",
     "text": [
      "--- INICIANDO BÚSQUEDA BAYESIANA DE HIPERPARÁMETROS ---\n",
      "Fitting 3 folds for each of 1 candidates, totalling 3 fits\n"
     ]
    },
    {
     "name": "stderr",
     "output_type": "stream",
     "text": [
      "/home/ec2-user/anaconda3/envs/python3/lib/python3.10/site-packages/xgboost/core.py:377: FutureWarning: Your system has an old version of glibc (< 2.28). We will stop supporting Linux distros with glibc older than 2.28 after **May 31, 2025**. Please upgrade to a recent Linux distro (with glibc >= 2.28) to use future versions of XGBoost.\n",
      "Note: You have installed the 'manylinux2014' variant of XGBoost. Certain features such as GPU algorithms or federated learning are not available. To use these features, please upgrade to a recent Linux distro with glibc 2.28+, and install the 'manylinux_2_28' variant.\n",
      "  warnings.warn(\n",
      "/home/ec2-user/anaconda3/envs/python3/lib/python3.10/site-packages/xgboost/training.py:183: UserWarning: [22:21:49] WARNING: /workspace/src/learner.cc:738: \n",
      "Parameters: { \"use_label_encoder\" } are not used.\n",
      "\n",
      "  bst.update(dtrain, iteration=i, fobj=obj)\n",
      "/home/ec2-user/anaconda3/envs/python3/lib/python3.10/site-packages/xgboost/core.py:377: FutureWarning: Your system has an old version of glibc (< 2.28). We will stop supporting Linux distros with glibc older than 2.28 after **May 31, 2025**. Please upgrade to a recent Linux distro (with glibc >= 2.28) to use future versions of XGBoost.\n",
      "Note: You have installed the 'manylinux2014' variant of XGBoost. Certain features such as GPU algorithms or federated learning are not available. To use these features, please upgrade to a recent Linux distro with glibc 2.28+, and install the 'manylinux_2_28' variant.\n",
      "  warnings.warn(\n",
      "/home/ec2-user/anaconda3/envs/python3/lib/python3.10/site-packages/xgboost/training.py:183: UserWarning: [22:21:49] WARNING: /workspace/src/learner.cc:738: \n",
      "Parameters: { \"use_label_encoder\" } are not used.\n",
      "\n",
      "  bst.update(dtrain, iteration=i, fobj=obj)\n",
      "/home/ec2-user/anaconda3/envs/python3/lib/python3.10/site-packages/xgboost/training.py:183: UserWarning: [22:21:51] WARNING: /workspace/src/learner.cc:738: \n",
      "Parameters: { \"use_label_encoder\" } are not used.\n",
      "\n",
      "  bst.update(dtrain, iteration=i, fobj=obj)\n"
     ]
    },
    {
     "name": "stdout",
     "output_type": "stream",
     "text": [
      "Fitting 3 folds for each of 1 candidates, totalling 3 fits\n"
     ]
    },
    {
     "name": "stderr",
     "output_type": "stream",
     "text": [
      "/home/ec2-user/anaconda3/envs/python3/lib/python3.10/site-packages/xgboost/training.py:183: UserWarning: [22:21:52] WARNING: /workspace/src/learner.cc:738: \n",
      "Parameters: { \"use_label_encoder\" } are not used.\n",
      "\n",
      "  bst.update(dtrain, iteration=i, fobj=obj)\n",
      "/home/ec2-user/anaconda3/envs/python3/lib/python3.10/site-packages/xgboost/training.py:183: UserWarning: [22:21:52] WARNING: /workspace/src/learner.cc:738: \n",
      "Parameters: { \"use_label_encoder\" } are not used.\n",
      "\n",
      "  bst.update(dtrain, iteration=i, fobj=obj)\n",
      "/home/ec2-user/anaconda3/envs/python3/lib/python3.10/site-packages/xgboost/training.py:183: UserWarning: [22:21:52] WARNING: /workspace/src/learner.cc:738: \n",
      "Parameters: { \"use_label_encoder\" } are not used.\n",
      "\n",
      "  bst.update(dtrain, iteration=i, fobj=obj)\n"
     ]
    },
    {
     "name": "stdout",
     "output_type": "stream",
     "text": [
      "Fitting 3 folds for each of 1 candidates, totalling 3 fits\n"
     ]
    },
    {
     "name": "stderr",
     "output_type": "stream",
     "text": [
      "/home/ec2-user/anaconda3/envs/python3/lib/python3.10/site-packages/xgboost/training.py:183: UserWarning: [22:21:52] WARNING: /workspace/src/learner.cc:738: \n",
      "Parameters: { \"use_label_encoder\" } are not used.\n",
      "\n",
      "  bst.update(dtrain, iteration=i, fobj=obj)\n",
      "/home/ec2-user/anaconda3/envs/python3/lib/python3.10/site-packages/xgboost/training.py:183: UserWarning: [22:21:52] WARNING: /workspace/src/learner.cc:738: \n",
      "Parameters: { \"use_label_encoder\" } are not used.\n",
      "\n",
      "  bst.update(dtrain, iteration=i, fobj=obj)\n",
      "/home/ec2-user/anaconda3/envs/python3/lib/python3.10/site-packages/xgboost/training.py:183: UserWarning: [22:21:53] WARNING: /workspace/src/learner.cc:738: \n",
      "Parameters: { \"use_label_encoder\" } are not used.\n",
      "\n",
      "  bst.update(dtrain, iteration=i, fobj=obj)\n"
     ]
    },
    {
     "name": "stdout",
     "output_type": "stream",
     "text": [
      "Fitting 3 folds for each of 1 candidates, totalling 3 fits\n"
     ]
    },
    {
     "name": "stderr",
     "output_type": "stream",
     "text": [
      "/home/ec2-user/anaconda3/envs/python3/lib/python3.10/site-packages/xgboost/training.py:183: UserWarning: [22:21:54] WARNING: /workspace/src/learner.cc:738: \n",
      "Parameters: { \"use_label_encoder\" } are not used.\n",
      "\n",
      "  bst.update(dtrain, iteration=i, fobj=obj)\n",
      "/home/ec2-user/anaconda3/envs/python3/lib/python3.10/site-packages/xgboost/training.py:183: UserWarning: [22:21:54] WARNING: /workspace/src/learner.cc:738: \n",
      "Parameters: { \"use_label_encoder\" } are not used.\n",
      "\n",
      "  bst.update(dtrain, iteration=i, fobj=obj)\n",
      "/home/ec2-user/anaconda3/envs/python3/lib/python3.10/site-packages/xgboost/training.py:183: UserWarning: [22:21:54] WARNING: /workspace/src/learner.cc:738: \n",
      "Parameters: { \"use_label_encoder\" } are not used.\n",
      "\n",
      "  bst.update(dtrain, iteration=i, fobj=obj)\n"
     ]
    },
    {
     "name": "stdout",
     "output_type": "stream",
     "text": [
      "Fitting 3 folds for each of 1 candidates, totalling 3 fits\n"
     ]
    },
    {
     "name": "stderr",
     "output_type": "stream",
     "text": [
      "/home/ec2-user/anaconda3/envs/python3/lib/python3.10/site-packages/xgboost/training.py:183: UserWarning: [22:21:54] WARNING: /workspace/src/learner.cc:738: \n",
      "Parameters: { \"use_label_encoder\" } are not used.\n",
      "\n",
      "  bst.update(dtrain, iteration=i, fobj=obj)\n",
      "/home/ec2-user/anaconda3/envs/python3/lib/python3.10/site-packages/xgboost/training.py:183: UserWarning: [22:21:54] WARNING: /workspace/src/learner.cc:738: \n",
      "Parameters: { \"use_label_encoder\" } are not used.\n",
      "\n",
      "  bst.update(dtrain, iteration=i, fobj=obj)\n",
      "/home/ec2-user/anaconda3/envs/python3/lib/python3.10/site-packages/xgboost/training.py:183: UserWarning: [22:21:55] WARNING: /workspace/src/learner.cc:738: \n",
      "Parameters: { \"use_label_encoder\" } are not used.\n",
      "\n",
      "  bst.update(dtrain, iteration=i, fobj=obj)\n"
     ]
    },
    {
     "name": "stdout",
     "output_type": "stream",
     "text": [
      "Fitting 3 folds for each of 1 candidates, totalling 3 fits\n"
     ]
    },
    {
     "name": "stderr",
     "output_type": "stream",
     "text": [
      "/home/ec2-user/anaconda3/envs/python3/lib/python3.10/site-packages/xgboost/training.py:183: UserWarning: [22:21:55] WARNING: /workspace/src/learner.cc:738: \n",
      "Parameters: { \"use_label_encoder\" } are not used.\n",
      "\n",
      "  bst.update(dtrain, iteration=i, fobj=obj)\n",
      "/home/ec2-user/anaconda3/envs/python3/lib/python3.10/site-packages/xgboost/training.py:183: UserWarning: [22:21:55] WARNING: /workspace/src/learner.cc:738: \n",
      "Parameters: { \"use_label_encoder\" } are not used.\n",
      "\n",
      "  bst.update(dtrain, iteration=i, fobj=obj)\n",
      "/home/ec2-user/anaconda3/envs/python3/lib/python3.10/site-packages/xgboost/training.py:183: UserWarning: [22:21:55] WARNING: /workspace/src/learner.cc:738: \n",
      "Parameters: { \"use_label_encoder\" } are not used.\n",
      "\n",
      "  bst.update(dtrain, iteration=i, fobj=obj)\n"
     ]
    },
    {
     "name": "stdout",
     "output_type": "stream",
     "text": [
      "Fitting 3 folds for each of 1 candidates, totalling 3 fits\n"
     ]
    },
    {
     "name": "stderr",
     "output_type": "stream",
     "text": [
      "/home/ec2-user/anaconda3/envs/python3/lib/python3.10/site-packages/xgboost/training.py:183: UserWarning: [22:21:56] WARNING: /workspace/src/learner.cc:738: \n",
      "Parameters: { \"use_label_encoder\" } are not used.\n",
      "\n",
      "  bst.update(dtrain, iteration=i, fobj=obj)\n",
      "/home/ec2-user/anaconda3/envs/python3/lib/python3.10/site-packages/xgboost/training.py:183: UserWarning: [22:21:56] WARNING: /workspace/src/learner.cc:738: \n",
      "Parameters: { \"use_label_encoder\" } are not used.\n",
      "\n",
      "  bst.update(dtrain, iteration=i, fobj=obj)\n",
      "/home/ec2-user/anaconda3/envs/python3/lib/python3.10/site-packages/xgboost/training.py:183: UserWarning: [22:21:56] WARNING: /workspace/src/learner.cc:738: \n",
      "Parameters: { \"use_label_encoder\" } are not used.\n",
      "\n",
      "  bst.update(dtrain, iteration=i, fobj=obj)\n"
     ]
    },
    {
     "name": "stdout",
     "output_type": "stream",
     "text": [
      "Fitting 3 folds for each of 1 candidates, totalling 3 fits\n"
     ]
    },
    {
     "name": "stderr",
     "output_type": "stream",
     "text": [
      "/home/ec2-user/anaconda3/envs/python3/lib/python3.10/site-packages/xgboost/training.py:183: UserWarning: [22:21:57] WARNING: /workspace/src/learner.cc:738: \n",
      "Parameters: { \"use_label_encoder\" } are not used.\n",
      "\n",
      "  bst.update(dtrain, iteration=i, fobj=obj)\n",
      "/home/ec2-user/anaconda3/envs/python3/lib/python3.10/site-packages/xgboost/training.py:183: UserWarning: [22:21:57] WARNING: /workspace/src/learner.cc:738: \n",
      "Parameters: { \"use_label_encoder\" } are not used.\n",
      "\n",
      "  bst.update(dtrain, iteration=i, fobj=obj)\n",
      "/home/ec2-user/anaconda3/envs/python3/lib/python3.10/site-packages/xgboost/training.py:183: UserWarning: [22:21:57] WARNING: /workspace/src/learner.cc:738: \n",
      "Parameters: { \"use_label_encoder\" } are not used.\n",
      "\n",
      "  bst.update(dtrain, iteration=i, fobj=obj)\n"
     ]
    },
    {
     "name": "stdout",
     "output_type": "stream",
     "text": [
      "Fitting 3 folds for each of 1 candidates, totalling 3 fits\n"
     ]
    },
    {
     "name": "stderr",
     "output_type": "stream",
     "text": [
      "/home/ec2-user/anaconda3/envs/python3/lib/python3.10/site-packages/xgboost/training.py:183: UserWarning: [22:21:58] WARNING: /workspace/src/learner.cc:738: \n",
      "Parameters: { \"use_label_encoder\" } are not used.\n",
      "\n",
      "  bst.update(dtrain, iteration=i, fobj=obj)\n",
      "/home/ec2-user/anaconda3/envs/python3/lib/python3.10/site-packages/xgboost/training.py:183: UserWarning: [22:21:58] WARNING: /workspace/src/learner.cc:738: \n",
      "Parameters: { \"use_label_encoder\" } are not used.\n",
      "\n",
      "  bst.update(dtrain, iteration=i, fobj=obj)\n",
      "/home/ec2-user/anaconda3/envs/python3/lib/python3.10/site-packages/xgboost/training.py:183: UserWarning: [22:21:58] WARNING: /workspace/src/learner.cc:738: \n",
      "Parameters: { \"use_label_encoder\" } are not used.\n",
      "\n",
      "  bst.update(dtrain, iteration=i, fobj=obj)\n"
     ]
    },
    {
     "name": "stdout",
     "output_type": "stream",
     "text": [
      "Fitting 3 folds for each of 1 candidates, totalling 3 fits\n"
     ]
    },
    {
     "name": "stderr",
     "output_type": "stream",
     "text": [
      "/home/ec2-user/anaconda3/envs/python3/lib/python3.10/site-packages/xgboost/training.py:183: UserWarning: [22:21:59] WARNING: /workspace/src/learner.cc:738: \n",
      "Parameters: { \"use_label_encoder\" } are not used.\n",
      "\n",
      "  bst.update(dtrain, iteration=i, fobj=obj)\n",
      "/home/ec2-user/anaconda3/envs/python3/lib/python3.10/site-packages/xgboost/training.py:183: UserWarning: [22:21:59] WARNING: /workspace/src/learner.cc:738: \n",
      "Parameters: { \"use_label_encoder\" } are not used.\n",
      "\n",
      "  bst.update(dtrain, iteration=i, fobj=obj)\n",
      "/home/ec2-user/anaconda3/envs/python3/lib/python3.10/site-packages/xgboost/training.py:183: UserWarning: [22:22:02] WARNING: /workspace/src/learner.cc:738: \n",
      "Parameters: { \"use_label_encoder\" } are not used.\n",
      "\n",
      "  bst.update(dtrain, iteration=i, fobj=obj)\n"
     ]
    },
    {
     "name": "stdout",
     "output_type": "stream",
     "text": [
      "Fitting 3 folds for each of 1 candidates, totalling 3 fits\n"
     ]
    },
    {
     "name": "stderr",
     "output_type": "stream",
     "text": [
      "/home/ec2-user/anaconda3/envs/python3/lib/python3.10/site-packages/xgboost/training.py:183: UserWarning: [22:22:05] WARNING: /workspace/src/learner.cc:738: \n",
      "Parameters: { \"use_label_encoder\" } are not used.\n",
      "\n",
      "  bst.update(dtrain, iteration=i, fobj=obj)\n",
      "/home/ec2-user/anaconda3/envs/python3/lib/python3.10/site-packages/xgboost/training.py:183: UserWarning: [22:22:05] WARNING: /workspace/src/learner.cc:738: \n",
      "Parameters: { \"use_label_encoder\" } are not used.\n",
      "\n",
      "  bst.update(dtrain, iteration=i, fobj=obj)\n",
      "/home/ec2-user/anaconda3/envs/python3/lib/python3.10/site-packages/xgboost/training.py:183: UserWarning: [22:22:05] WARNING: /workspace/src/learner.cc:738: \n",
      "Parameters: { \"use_label_encoder\" } are not used.\n",
      "\n",
      "  bst.update(dtrain, iteration=i, fobj=obj)\n"
     ]
    },
    {
     "name": "stdout",
     "output_type": "stream",
     "text": [
      "Fitting 3 folds for each of 1 candidates, totalling 3 fits\n"
     ]
    },
    {
     "name": "stderr",
     "output_type": "stream",
     "text": [
      "/home/ec2-user/anaconda3/envs/python3/lib/python3.10/site-packages/xgboost/training.py:183: UserWarning: [22:22:06] WARNING: /workspace/src/learner.cc:738: \n",
      "Parameters: { \"use_label_encoder\" } are not used.\n",
      "\n",
      "  bst.update(dtrain, iteration=i, fobj=obj)\n",
      "/home/ec2-user/anaconda3/envs/python3/lib/python3.10/site-packages/xgboost/training.py:183: UserWarning: [22:22:06] WARNING: /workspace/src/learner.cc:738: \n",
      "Parameters: { \"use_label_encoder\" } are not used.\n",
      "\n",
      "  bst.update(dtrain, iteration=i, fobj=obj)\n",
      "/home/ec2-user/anaconda3/envs/python3/lib/python3.10/site-packages/xgboost/training.py:183: UserWarning: [22:22:08] WARNING: /workspace/src/learner.cc:738: \n",
      "Parameters: { \"use_label_encoder\" } are not used.\n",
      "\n",
      "  bst.update(dtrain, iteration=i, fobj=obj)\n"
     ]
    },
    {
     "name": "stdout",
     "output_type": "stream",
     "text": [
      "Fitting 3 folds for each of 1 candidates, totalling 3 fits\n"
     ]
    },
    {
     "name": "stderr",
     "output_type": "stream",
     "text": [
      "/home/ec2-user/anaconda3/envs/python3/lib/python3.10/site-packages/xgboost/training.py:183: UserWarning: [22:22:10] WARNING: /workspace/src/learner.cc:738: \n",
      "Parameters: { \"use_label_encoder\" } are not used.\n",
      "\n",
      "  bst.update(dtrain, iteration=i, fobj=obj)\n",
      "/home/ec2-user/anaconda3/envs/python3/lib/python3.10/site-packages/xgboost/training.py:183: UserWarning: [22:22:10] WARNING: /workspace/src/learner.cc:738: \n",
      "Parameters: { \"use_label_encoder\" } are not used.\n",
      "\n",
      "  bst.update(dtrain, iteration=i, fobj=obj)\n",
      "/home/ec2-user/anaconda3/envs/python3/lib/python3.10/site-packages/xgboost/training.py:183: UserWarning: [22:22:14] WARNING: /workspace/src/learner.cc:738: \n",
      "Parameters: { \"use_label_encoder\" } are not used.\n",
      "\n",
      "  bst.update(dtrain, iteration=i, fobj=obj)\n"
     ]
    },
    {
     "name": "stdout",
     "output_type": "stream",
     "text": [
      "Fitting 3 folds for each of 1 candidates, totalling 3 fits\n"
     ]
    },
    {
     "name": "stderr",
     "output_type": "stream",
     "text": [
      "/home/ec2-user/anaconda3/envs/python3/lib/python3.10/site-packages/xgboost/training.py:183: UserWarning: [22:22:17] WARNING: /workspace/src/learner.cc:738: \n",
      "Parameters: { \"use_label_encoder\" } are not used.\n",
      "\n",
      "  bst.update(dtrain, iteration=i, fobj=obj)\n",
      "/home/ec2-user/anaconda3/envs/python3/lib/python3.10/site-packages/xgboost/training.py:183: UserWarning: [22:22:17] WARNING: /workspace/src/learner.cc:738: \n",
      "Parameters: { \"use_label_encoder\" } are not used.\n",
      "\n",
      "  bst.update(dtrain, iteration=i, fobj=obj)\n",
      "/home/ec2-user/anaconda3/envs/python3/lib/python3.10/site-packages/xgboost/training.py:183: UserWarning: [22:22:17] WARNING: /workspace/src/learner.cc:738: \n",
      "Parameters: { \"use_label_encoder\" } are not used.\n",
      "\n",
      "  bst.update(dtrain, iteration=i, fobj=obj)\n"
     ]
    },
    {
     "name": "stdout",
     "output_type": "stream",
     "text": [
      "Fitting 3 folds for each of 1 candidates, totalling 3 fits\n"
     ]
    },
    {
     "name": "stderr",
     "output_type": "stream",
     "text": [
      "/home/ec2-user/anaconda3/envs/python3/lib/python3.10/site-packages/xgboost/training.py:183: UserWarning: [22:22:18] WARNING: /workspace/src/learner.cc:738: \n",
      "Parameters: { \"use_label_encoder\" } are not used.\n",
      "\n",
      "  bst.update(dtrain, iteration=i, fobj=obj)\n",
      "/home/ec2-user/anaconda3/envs/python3/lib/python3.10/site-packages/xgboost/training.py:183: UserWarning: [22:22:18] WARNING: /workspace/src/learner.cc:738: \n",
      "Parameters: { \"use_label_encoder\" } are not used.\n",
      "\n",
      "  bst.update(dtrain, iteration=i, fobj=obj)\n",
      "/home/ec2-user/anaconda3/envs/python3/lib/python3.10/site-packages/xgboost/training.py:183: UserWarning: [22:22:19] WARNING: /workspace/src/learner.cc:738: \n",
      "Parameters: { \"use_label_encoder\" } are not used.\n",
      "\n",
      "  bst.update(dtrain, iteration=i, fobj=obj)\n"
     ]
    },
    {
     "name": "stdout",
     "output_type": "stream",
     "text": [
      "Fitting 3 folds for each of 1 candidates, totalling 3 fits\n"
     ]
    },
    {
     "name": "stderr",
     "output_type": "stream",
     "text": [
      "/home/ec2-user/anaconda3/envs/python3/lib/python3.10/site-packages/xgboost/training.py:183: UserWarning: [22:22:20] WARNING: /workspace/src/learner.cc:738: \n",
      "Parameters: { \"use_label_encoder\" } are not used.\n",
      "\n",
      "  bst.update(dtrain, iteration=i, fobj=obj)\n",
      "/home/ec2-user/anaconda3/envs/python3/lib/python3.10/site-packages/xgboost/training.py:183: UserWarning: [22:22:20] WARNING: /workspace/src/learner.cc:738: \n",
      "Parameters: { \"use_label_encoder\" } are not used.\n",
      "\n",
      "  bst.update(dtrain, iteration=i, fobj=obj)\n",
      "/home/ec2-user/anaconda3/envs/python3/lib/python3.10/site-packages/xgboost/training.py:183: UserWarning: [22:22:22] WARNING: /workspace/src/learner.cc:738: \n",
      "Parameters: { \"use_label_encoder\" } are not used.\n",
      "\n",
      "  bst.update(dtrain, iteration=i, fobj=obj)\n"
     ]
    },
    {
     "name": "stdout",
     "output_type": "stream",
     "text": [
      "Fitting 3 folds for each of 1 candidates, totalling 3 fits\n"
     ]
    },
    {
     "name": "stderr",
     "output_type": "stream",
     "text": [
      "/home/ec2-user/anaconda3/envs/python3/lib/python3.10/site-packages/xgboost/training.py:183: UserWarning: [22:22:25] WARNING: /workspace/src/learner.cc:738: \n",
      "Parameters: { \"use_label_encoder\" } are not used.\n",
      "\n",
      "  bst.update(dtrain, iteration=i, fobj=obj)\n",
      "/home/ec2-user/anaconda3/envs/python3/lib/python3.10/site-packages/xgboost/training.py:183: UserWarning: [22:22:25] WARNING: /workspace/src/learner.cc:738: \n",
      "Parameters: { \"use_label_encoder\" } are not used.\n",
      "\n",
      "  bst.update(dtrain, iteration=i, fobj=obj)\n",
      "/home/ec2-user/anaconda3/envs/python3/lib/python3.10/site-packages/xgboost/training.py:183: UserWarning: [22:22:27] WARNING: /workspace/src/learner.cc:738: \n",
      "Parameters: { \"use_label_encoder\" } are not used.\n",
      "\n",
      "  bst.update(dtrain, iteration=i, fobj=obj)\n"
     ]
    },
    {
     "name": "stdout",
     "output_type": "stream",
     "text": [
      "Fitting 3 folds for each of 1 candidates, totalling 3 fits\n"
     ]
    },
    {
     "name": "stderr",
     "output_type": "stream",
     "text": [
      "/home/ec2-user/anaconda3/envs/python3/lib/python3.10/site-packages/xgboost/training.py:183: UserWarning: [22:22:29] WARNING: /workspace/src/learner.cc:738: \n",
      "Parameters: { \"use_label_encoder\" } are not used.\n",
      "\n",
      "  bst.update(dtrain, iteration=i, fobj=obj)\n",
      "/home/ec2-user/anaconda3/envs/python3/lib/python3.10/site-packages/xgboost/training.py:183: UserWarning: [22:22:29] WARNING: /workspace/src/learner.cc:738: \n",
      "Parameters: { \"use_label_encoder\" } are not used.\n",
      "\n",
      "  bst.update(dtrain, iteration=i, fobj=obj)\n",
      "/home/ec2-user/anaconda3/envs/python3/lib/python3.10/site-packages/xgboost/training.py:183: UserWarning: [22:22:32] WARNING: /workspace/src/learner.cc:738: \n",
      "Parameters: { \"use_label_encoder\" } are not used.\n",
      "\n",
      "  bst.update(dtrain, iteration=i, fobj=obj)\n"
     ]
    },
    {
     "name": "stdout",
     "output_type": "stream",
     "text": [
      "Fitting 3 folds for each of 1 candidates, totalling 3 fits\n"
     ]
    },
    {
     "name": "stderr",
     "output_type": "stream",
     "text": [
      "/home/ec2-user/anaconda3/envs/python3/lib/python3.10/site-packages/xgboost/training.py:183: UserWarning: [22:22:35] WARNING: /workspace/src/learner.cc:738: \n",
      "Parameters: { \"use_label_encoder\" } are not used.\n",
      "\n",
      "  bst.update(dtrain, iteration=i, fobj=obj)\n",
      "/home/ec2-user/anaconda3/envs/python3/lib/python3.10/site-packages/xgboost/training.py:183: UserWarning: [22:22:35] WARNING: /workspace/src/learner.cc:738: \n",
      "Parameters: { \"use_label_encoder\" } are not used.\n",
      "\n",
      "  bst.update(dtrain, iteration=i, fobj=obj)\n",
      "/home/ec2-user/anaconda3/envs/python3/lib/python3.10/site-packages/xgboost/training.py:183: UserWarning: [22:22:37] WARNING: /workspace/src/learner.cc:738: \n",
      "Parameters: { \"use_label_encoder\" } are not used.\n",
      "\n",
      "  bst.update(dtrain, iteration=i, fobj=obj)\n"
     ]
    },
    {
     "name": "stdout",
     "output_type": "stream",
     "text": [
      "Fitting 3 folds for each of 1 candidates, totalling 3 fits\n"
     ]
    },
    {
     "name": "stderr",
     "output_type": "stream",
     "text": [
      "/home/ec2-user/anaconda3/envs/python3/lib/python3.10/site-packages/xgboost/training.py:183: UserWarning: [22:22:39] WARNING: /workspace/src/learner.cc:738: \n",
      "Parameters: { \"use_label_encoder\" } are not used.\n",
      "\n",
      "  bst.update(dtrain, iteration=i, fobj=obj)\n",
      "/home/ec2-user/anaconda3/envs/python3/lib/python3.10/site-packages/xgboost/training.py:183: UserWarning: [22:22:40] WARNING: /workspace/src/learner.cc:738: \n",
      "Parameters: { \"use_label_encoder\" } are not used.\n",
      "\n",
      "  bst.update(dtrain, iteration=i, fobj=obj)\n",
      "/home/ec2-user/anaconda3/envs/python3/lib/python3.10/site-packages/xgboost/training.py:183: UserWarning: [22:22:42] WARNING: /workspace/src/learner.cc:738: \n",
      "Parameters: { \"use_label_encoder\" } are not used.\n",
      "\n",
      "  bst.update(dtrain, iteration=i, fobj=obj)\n"
     ]
    },
    {
     "name": "stdout",
     "output_type": "stream",
     "text": [
      "Fitting 3 folds for each of 1 candidates, totalling 3 fits\n"
     ]
    },
    {
     "name": "stderr",
     "output_type": "stream",
     "text": [
      "/home/ec2-user/anaconda3/envs/python3/lib/python3.10/site-packages/xgboost/training.py:183: UserWarning: [22:22:45] WARNING: /workspace/src/learner.cc:738: \n",
      "Parameters: { \"use_label_encoder\" } are not used.\n",
      "\n",
      "  bst.update(dtrain, iteration=i, fobj=obj)\n",
      "/home/ec2-user/anaconda3/envs/python3/lib/python3.10/site-packages/xgboost/training.py:183: UserWarning: [22:22:45] WARNING: /workspace/src/learner.cc:738: \n",
      "Parameters: { \"use_label_encoder\" } are not used.\n",
      "\n",
      "  bst.update(dtrain, iteration=i, fobj=obj)\n",
      "/home/ec2-user/anaconda3/envs/python3/lib/python3.10/site-packages/xgboost/training.py:183: UserWarning: [22:22:47] WARNING: /workspace/src/learner.cc:738: \n",
      "Parameters: { \"use_label_encoder\" } are not used.\n",
      "\n",
      "  bst.update(dtrain, iteration=i, fobj=obj)\n"
     ]
    },
    {
     "name": "stdout",
     "output_type": "stream",
     "text": [
      "Fitting 3 folds for each of 1 candidates, totalling 3 fits\n"
     ]
    },
    {
     "name": "stderr",
     "output_type": "stream",
     "text": [
      "/home/ec2-user/anaconda3/envs/python3/lib/python3.10/site-packages/xgboost/training.py:183: UserWarning: [22:22:50] WARNING: /workspace/src/learner.cc:738: \n",
      "Parameters: { \"use_label_encoder\" } are not used.\n",
      "\n",
      "  bst.update(dtrain, iteration=i, fobj=obj)\n",
      "/home/ec2-user/anaconda3/envs/python3/lib/python3.10/site-packages/xgboost/training.py:183: UserWarning: [22:22:50] WARNING: /workspace/src/learner.cc:738: \n",
      "Parameters: { \"use_label_encoder\" } are not used.\n",
      "\n",
      "  bst.update(dtrain, iteration=i, fobj=obj)\n",
      "/home/ec2-user/anaconda3/envs/python3/lib/python3.10/site-packages/xgboost/training.py:183: UserWarning: [22:22:53] WARNING: /workspace/src/learner.cc:738: \n",
      "Parameters: { \"use_label_encoder\" } are not used.\n",
      "\n",
      "  bst.update(dtrain, iteration=i, fobj=obj)\n"
     ]
    },
    {
     "name": "stdout",
     "output_type": "stream",
     "text": [
      "Fitting 3 folds for each of 1 candidates, totalling 3 fits\n"
     ]
    },
    {
     "name": "stderr",
     "output_type": "stream",
     "text": [
      "/home/ec2-user/anaconda3/envs/python3/lib/python3.10/site-packages/xgboost/training.py:183: UserWarning: [22:22:56] WARNING: /workspace/src/learner.cc:738: \n",
      "Parameters: { \"use_label_encoder\" } are not used.\n",
      "\n",
      "  bst.update(dtrain, iteration=i, fobj=obj)\n",
      "/home/ec2-user/anaconda3/envs/python3/lib/python3.10/site-packages/xgboost/training.py:183: UserWarning: [22:22:56] WARNING: /workspace/src/learner.cc:738: \n",
      "Parameters: { \"use_label_encoder\" } are not used.\n",
      "\n",
      "  bst.update(dtrain, iteration=i, fobj=obj)\n",
      "/home/ec2-user/anaconda3/envs/python3/lib/python3.10/site-packages/xgboost/training.py:183: UserWarning: [22:22:59] WARNING: /workspace/src/learner.cc:738: \n",
      "Parameters: { \"use_label_encoder\" } are not used.\n",
      "\n",
      "  bst.update(dtrain, iteration=i, fobj=obj)\n"
     ]
    },
    {
     "name": "stdout",
     "output_type": "stream",
     "text": [
      "Fitting 3 folds for each of 1 candidates, totalling 3 fits\n"
     ]
    },
    {
     "name": "stderr",
     "output_type": "stream",
     "text": [
      "/home/ec2-user/anaconda3/envs/python3/lib/python3.10/site-packages/xgboost/training.py:183: UserWarning: [22:23:01] WARNING: /workspace/src/learner.cc:738: \n",
      "Parameters: { \"use_label_encoder\" } are not used.\n",
      "\n",
      "  bst.update(dtrain, iteration=i, fobj=obj)\n",
      "/home/ec2-user/anaconda3/envs/python3/lib/python3.10/site-packages/xgboost/training.py:183: UserWarning: [22:23:01] WARNING: /workspace/src/learner.cc:738: \n",
      "Parameters: { \"use_label_encoder\" } are not used.\n",
      "\n",
      "  bst.update(dtrain, iteration=i, fobj=obj)\n",
      "/home/ec2-user/anaconda3/envs/python3/lib/python3.10/site-packages/xgboost/training.py:183: UserWarning: [22:23:02] WARNING: /workspace/src/learner.cc:738: \n",
      "Parameters: { \"use_label_encoder\" } are not used.\n",
      "\n",
      "  bst.update(dtrain, iteration=i, fobj=obj)\n"
     ]
    },
    {
     "name": "stdout",
     "output_type": "stream",
     "text": [
      "Fitting 3 folds for each of 1 candidates, totalling 3 fits\n"
     ]
    },
    {
     "name": "stderr",
     "output_type": "stream",
     "text": [
      "/home/ec2-user/anaconda3/envs/python3/lib/python3.10/site-packages/xgboost/training.py:183: UserWarning: [22:23:04] WARNING: /workspace/src/learner.cc:738: \n",
      "Parameters: { \"use_label_encoder\" } are not used.\n",
      "\n",
      "  bst.update(dtrain, iteration=i, fobj=obj)\n",
      "/home/ec2-user/anaconda3/envs/python3/lib/python3.10/site-packages/xgboost/training.py:183: UserWarning: [22:23:04] WARNING: /workspace/src/learner.cc:738: \n",
      "Parameters: { \"use_label_encoder\" } are not used.\n",
      "\n",
      "  bst.update(dtrain, iteration=i, fobj=obj)\n",
      "/home/ec2-user/anaconda3/envs/python3/lib/python3.10/site-packages/xgboost/training.py:183: UserWarning: [22:23:05] WARNING: /workspace/src/learner.cc:738: \n",
      "Parameters: { \"use_label_encoder\" } are not used.\n",
      "\n",
      "  bst.update(dtrain, iteration=i, fobj=obj)\n"
     ]
    },
    {
     "name": "stdout",
     "output_type": "stream",
     "text": [
      "Fitting 3 folds for each of 1 candidates, totalling 3 fits\n"
     ]
    },
    {
     "name": "stderr",
     "output_type": "stream",
     "text": [
      "/home/ec2-user/anaconda3/envs/python3/lib/python3.10/site-packages/xgboost/training.py:183: UserWarning: [22:23:06] WARNING: /workspace/src/learner.cc:738: \n",
      "Parameters: { \"use_label_encoder\" } are not used.\n",
      "\n",
      "  bst.update(dtrain, iteration=i, fobj=obj)\n",
      "/home/ec2-user/anaconda3/envs/python3/lib/python3.10/site-packages/xgboost/training.py:183: UserWarning: [22:23:06] WARNING: /workspace/src/learner.cc:738: \n",
      "Parameters: { \"use_label_encoder\" } are not used.\n",
      "\n",
      "  bst.update(dtrain, iteration=i, fobj=obj)\n",
      "/home/ec2-user/anaconda3/envs/python3/lib/python3.10/site-packages/xgboost/training.py:183: UserWarning: [22:23:06] WARNING: /workspace/src/learner.cc:738: \n",
      "Parameters: { \"use_label_encoder\" } are not used.\n",
      "\n",
      "  bst.update(dtrain, iteration=i, fobj=obj)\n"
     ]
    },
    {
     "name": "stdout",
     "output_type": "stream",
     "text": [
      "Fitting 3 folds for each of 1 candidates, totalling 3 fits\n"
     ]
    },
    {
     "name": "stderr",
     "output_type": "stream",
     "text": [
      "/home/ec2-user/anaconda3/envs/python3/lib/python3.10/site-packages/xgboost/training.py:183: UserWarning: [22:23:08] WARNING: /workspace/src/learner.cc:738: \n",
      "Parameters: { \"use_label_encoder\" } are not used.\n",
      "\n",
      "  bst.update(dtrain, iteration=i, fobj=obj)\n",
      "/home/ec2-user/anaconda3/envs/python3/lib/python3.10/site-packages/xgboost/training.py:183: UserWarning: [22:23:08] WARNING: /workspace/src/learner.cc:738: \n",
      "Parameters: { \"use_label_encoder\" } are not used.\n",
      "\n",
      "  bst.update(dtrain, iteration=i, fobj=obj)\n",
      "/home/ec2-user/anaconda3/envs/python3/lib/python3.10/site-packages/xgboost/training.py:183: UserWarning: [22:23:11] WARNING: /workspace/src/learner.cc:738: \n",
      "Parameters: { \"use_label_encoder\" } are not used.\n",
      "\n",
      "  bst.update(dtrain, iteration=i, fobj=obj)\n"
     ]
    },
    {
     "name": "stdout",
     "output_type": "stream",
     "text": [
      "Fitting 3 folds for each of 1 candidates, totalling 3 fits\n"
     ]
    },
    {
     "name": "stderr",
     "output_type": "stream",
     "text": [
      "/home/ec2-user/anaconda3/envs/python3/lib/python3.10/site-packages/xgboost/training.py:183: UserWarning: [22:23:14] WARNING: /workspace/src/learner.cc:738: \n",
      "Parameters: { \"use_label_encoder\" } are not used.\n",
      "\n",
      "  bst.update(dtrain, iteration=i, fobj=obj)\n",
      "/home/ec2-user/anaconda3/envs/python3/lib/python3.10/site-packages/xgboost/training.py:183: UserWarning: [22:23:14] WARNING: /workspace/src/learner.cc:738: \n",
      "Parameters: { \"use_label_encoder\" } are not used.\n",
      "\n",
      "  bst.update(dtrain, iteration=i, fobj=obj)\n",
      "/home/ec2-user/anaconda3/envs/python3/lib/python3.10/site-packages/xgboost/training.py:183: UserWarning: [22:23:14] WARNING: /workspace/src/learner.cc:738: \n",
      "Parameters: { \"use_label_encoder\" } are not used.\n",
      "\n",
      "  bst.update(dtrain, iteration=i, fobj=obj)\n"
     ]
    },
    {
     "name": "stdout",
     "output_type": "stream",
     "text": [
      "Fitting 3 folds for each of 1 candidates, totalling 3 fits\n"
     ]
    },
    {
     "name": "stderr",
     "output_type": "stream",
     "text": [
      "/home/ec2-user/anaconda3/envs/python3/lib/python3.10/site-packages/xgboost/training.py:183: UserWarning: [22:23:16] WARNING: /workspace/src/learner.cc:738: \n",
      "Parameters: { \"use_label_encoder\" } are not used.\n",
      "\n",
      "  bst.update(dtrain, iteration=i, fobj=obj)\n",
      "/home/ec2-user/anaconda3/envs/python3/lib/python3.10/site-packages/xgboost/training.py:183: UserWarning: [22:23:16] WARNING: /workspace/src/learner.cc:738: \n",
      "Parameters: { \"use_label_encoder\" } are not used.\n",
      "\n",
      "  bst.update(dtrain, iteration=i, fobj=obj)\n",
      "/home/ec2-user/anaconda3/envs/python3/lib/python3.10/site-packages/xgboost/training.py:183: UserWarning: [22:23:19] WARNING: /workspace/src/learner.cc:738: \n",
      "Parameters: { \"use_label_encoder\" } are not used.\n",
      "\n",
      "  bst.update(dtrain, iteration=i, fobj=obj)\n"
     ]
    },
    {
     "name": "stdout",
     "output_type": "stream",
     "text": [
      "Fitting 3 folds for each of 1 candidates, totalling 3 fits\n"
     ]
    },
    {
     "name": "stderr",
     "output_type": "stream",
     "text": [
      "/home/ec2-user/anaconda3/envs/python3/lib/python3.10/site-packages/xgboost/training.py:183: UserWarning: [22:23:22] WARNING: /workspace/src/learner.cc:738: \n",
      "Parameters: { \"use_label_encoder\" } are not used.\n",
      "\n",
      "  bst.update(dtrain, iteration=i, fobj=obj)\n",
      "/home/ec2-user/anaconda3/envs/python3/lib/python3.10/site-packages/xgboost/training.py:183: UserWarning: [22:23:22] WARNING: /workspace/src/learner.cc:738: \n",
      "Parameters: { \"use_label_encoder\" } are not used.\n",
      "\n",
      "  bst.update(dtrain, iteration=i, fobj=obj)\n",
      "/home/ec2-user/anaconda3/envs/python3/lib/python3.10/site-packages/xgboost/training.py:183: UserWarning: [22:23:23] WARNING: /workspace/src/learner.cc:738: \n",
      "Parameters: { \"use_label_encoder\" } are not used.\n",
      "\n",
      "  bst.update(dtrain, iteration=i, fobj=obj)\n",
      "/home/ec2-user/anaconda3/envs/python3/lib/python3.10/site-packages/xgboost/training.py:183: UserWarning: [22:23:25] WARNING: /workspace/src/learner.cc:738: \n",
      "Parameters: { \"use_label_encoder\" } are not used.\n",
      "\n",
      "  bst.update(dtrain, iteration=i, fobj=obj)\n"
     ]
    },
    {
     "name": "stdout",
     "output_type": "stream",
     "text": [
      "\n",
      "✅ BÚSQUEDA COMPLETADA.\n",
      "Mejores Hiperparámetros Encontrados: OrderedDict([('learning_rate', 0.01419912317482973), ('max_depth', 6), ('n_estimators', 219)])\n",
      "Mejor F1-score (macro) en Validación Cruzada: 0.8608\n",
      "\n",
      "✅ Mejor modelo guardado localmente como 'best_bayes_xgb_model.joblib'\n"
     ]
    }
   ],
   "source": [
    "# ==============================================================================\n",
    "# CELDA 1: ENTRENAMIENTO DEL MODELO CON OPTIMIZACIÓN BAYESIANA\n",
    "# ==============================================================================\n",
    "# Responsabilidad: Encontrar los mejores hiperparámetros, entrenar el modelo\n",
    "# y guardarlo para la siguiente etapa.\n",
    "\n",
    "# --- Importamos las librerías necesarias ---\n",
    "from skopt import BayesSearchCV\n",
    "from skopt.space import Real, Integer\n",
    "import xgboost as xgb\n",
    "import joblib # Necesario para guardar el modelo\n",
    "\n",
    "# --- Verificamos que los datos de entrenamiento existan ---\n",
    "if 'X_train_smote' in locals() and 'y_train_smote' in locals():\n",
    "\n",
    "    # --- PASO 1: Definir el Modelo y el ESPACIO de Búsqueda ---\n",
    "    xgb_classifier = xgb.XGBClassifier(\n",
    "        objective='binary:logistic',\n",
    "        use_label_encoder=False,\n",
    "        eval_metric='logloss',\n",
    "        random_state=42\n",
    "    )\n",
    "\n",
    "    search_spaces = {\n",
    "        'learning_rate': Real(0.01, 1.0, 'log-uniform'),\n",
    "        'max_depth': Integer(2, 8),\n",
    "        'n_estimators': Integer(50, 300)\n",
    "    }\n",
    "\n",
    "    # --- PASO 2: Configurar y Ejecutar la Búsqueda Bayesiana ---\n",
    "    bayes_search = BayesSearchCV(\n",
    "        estimator=xgb_classifier,\n",
    "        search_spaces=search_spaces,\n",
    "        scoring='f1_macro',\n",
    "        cv=3,\n",
    "        n_iter=30,\n",
    "        n_jobs=-1,\n",
    "        random_state=42,\n",
    "        verbose=1\n",
    "    )\n",
    "\n",
    "    print(\"--- INICIANDO BÚSQUEDA BAYESIANA DE HIPERPARÁMETROS ---\")\n",
    "    bayes_search.fit(X_train_smote, y_train_smote)\n",
    "\n",
    "    print(\"\\n✅ BÚSQUEDA COMPLETADA.\")\n",
    "    print(f\"Mejores Hiperparámetros Encontrados: {bayes_search.best_params_}\")\n",
    "    print(f\"Mejor F1-score (macro) en Validación Cruzada: {bayes_search.best_score_:.4f}\")\n",
    "\n",
    "    # --- PASO 3: Guardar el mejor modelo en un archivo ---\n",
    "    # Este es el puente entre la celda de entrenamiento y la de evaluación.\n",
    "    best_model = bayes_search.best_estimator_\n",
    "    model_filename = \"best_bayes_xgb_model.joblib\"\n",
    "    joblib.dump(best_model, model_filename)\n",
    "    \n",
    "    print(f\"\\n✅ Mejor modelo guardado localmente como '{model_filename}'\")\n",
    "\n",
    "else:\n",
    "    print(\"❌ ERROR: No se encontraron los datos de entrenamiento ('X_train_smote', 'y_train_smote').\")"
   ]
  },
  {
   "cell_type": "markdown",
   "id": "54a67603-8274-435f-9c20-9a7439934e10",
   "metadata": {},
   "source": [
    "## Testeo"
   ]
  },
  {
   "cell_type": "code",
   "execution_count": 38,
   "id": "a4c604fa-d937-4ae3-a0f9-b0cad2063663",
   "metadata": {},
   "outputs": [
    {
     "name": "stdout",
     "output_type": "stream",
     "text": [
      "--- Cargando modelo desde 'best_bayes_xgb_model.joblib' ---\n",
      "\n",
      "--- EVALUANDO EL MODELO EN EL CONJUNTO DE DATOS ---\n",
      "\n",
      "Reporte de Clasificación:\n",
      "              precision    recall  f1-score   support\n",
      "\n",
      "    bad risk       0.83      0.89      0.86        81\n",
      "   good risk       0.86      0.78      0.82        69\n",
      "\n",
      "    accuracy                           0.84       150\n",
      "   macro avg       0.84      0.84      0.84       150\n",
      "weighted avg       0.84      0.84      0.84       150\n",
      "\n",
      "\n",
      "Matriz de Confusión:\n"
     ]
    },
    {
     "data": {
      "image/png": "[encoded data removed]",
      "text/plain": [
       "<Figure size 800x600 with 2 Axes>"
      ]
     },
     "metadata": {},
     "output_type": "display_data"
    },
    {
     "name": "stdout",
     "output_type": "stream",
     "text": [
      "\n",
      "--- Subiendo 'confusion_matrix.png' a S3 ---\n",
      "✅ Gráfico guardado exitosamente en s3://credit-risk-pipeline-preauth-prod-us-east-1-nxhm2/reports/figures/confusion_matrix.png\n"
     ]
    }
   ],
   "source": [
    "import joblib\n",
    "import boto3\n",
    "from sklearn.metrics import classification_report, confusion_matrix\n",
    "import seaborn as sns\n",
    "import matplotlib.pyplot as plt\n",
    "import os\n",
    "\n",
    "# --- Configuración de S3 ---\n",
    "REPORTS_PREFIX = \"reports/figures/\" # Carpeta dentro del bucket para los gráficos\n",
    "model_filename = \"best_bayes_xgb_model.joblib\"\n",
    "\n",
    "# --- Verificamos que los datos de validación/prueba existan ---\n",
    "if 'X_val_final' in locals() and 'y_val_final' in locals() and 'target_encoder' in locals():\n",
    "    \n",
    "    # 1. Cargar el modelo entrenado desde el archivo local\n",
    "    if os.path.exists(model_filename):\n",
    "        print(f\"--- Cargando modelo desde '{model_filename}' ---\")\n",
    "        best_model = joblib.load(model_filename)\n",
    "\n",
    "        # 2. Realizar predicciones en el conjunto de validación/prueba\n",
    "        print(\"\\n--- EVALUANDO EL MODELO EN EL CONJUNTO DE DATOS ---\")\n",
    "        y_pred = best_model.predict(X_val_final)\n",
    "\n",
    "        print(\"\\nReporte de Clasificación:\")\n",
    "        print(classification_report(y_val_final, y_pred, target_names=target_encoder.classes_))\n",
    "\n",
    "        # 3. Generar la Matriz de Confusión\n",
    "        print(\"\\nMatriz de Confusión:\")\n",
    "        cm = confusion_matrix(y_val_final, y_pred)\n",
    "        plt.figure(figsize=(8, 6))\n",
    "        sns.heatmap(cm, annot=True, fmt='d', cmap='viridis', \n",
    "                    xticklabels=target_encoder.classes_, yticklabels=target_encoder.classes_)\n",
    "        plt.xlabel('Predicción')\n",
    "        plt.ylabel('Valor Real')\n",
    "        plt.title('Matriz de Confusión')\n",
    "        \n",
    "        # Guardar la figura localmente antes de subirla\n",
    "        local_plot_filename = \"confusion_matrix.png\"\n",
    "        plt.savefig(local_plot_filename, dpi=300, bbox_inches='tight')\n",
    "        plt.show() # Mostrar el gráfico en el notebook\n",
    "\n",
    "        # 4. Subir el gráfico a S3\n",
    "        if BUCKET_NAME != \"tu-bucket-de-s3-aqui\":\n",
    "            try:\n",
    "                print(f\"\\n--- Subiendo '{local_plot_filename}' a S3 ---\")\n",
    "                s3_client = boto3.client('s3')\n",
    "                s3_key = f\"{REPORTS_PREFIX}{local_plot_filename}\"\n",
    "                s3_client.upload_file(local_plot_filename, BUCKET_NAME, s3_key)\n",
    "                print(f\"✅ Gráfico guardado exitosamente en s3://{BUCKET_NAME}/{s3_key}\")\n",
    "            except Exception as e:\n",
    "                print(f\"❌ ERROR al subir el archivo a S3: {e}\")\n",
    "                print(\"Por favor, verifica el nombre del bucket y tus credenciales de AWS.\")\n",
    "        else:\n",
    "            print(\"\\n⚠️ ADVERTENCIA: No se subió el gráfico a S3. Por favor, configura tu BUCKET_NAME.\")\n",
    "            \n",
    "    else:\n",
    "        print(f\"❌ ERROR: El archivo del modelo '{model_filename}' no fue encontrado.\")\n",
    "        print(\"Asegúrate de ejecutar la Celda 1 (Entrenamiento) primero.\")\n",
    "else:\n",
    "    print(\"❌ ERROR: Las variables 'X_val_final', 'y_val_final', o 'target_encoder' no fueron encontradas.\")\n",
    "    print(\"Por favor, asegúrate de cargar los datos antes de ejecutar esta celda.\")"
   ]
  },
  {
   "cell_type": "markdown",
   "id": "6bce282b-18a5-40ec-b2f1-d718af279abe",
   "metadata": {},
   "source": [
    "## Guarda el modelo en S3"
   ]
  },
  {
   "cell_type": "code",
   "execution_count": 40,
   "id": "df48722b-6fdc-4e34-94d7-51d46bdc7619",
   "metadata": {},
   "outputs": [
    {
     "name": "stdout",
     "output_type": "stream",
     "text": [
      "Subiendo 'best_bayes_xgb_model.joblib' a 's3://credit-risk-pipeline-preauth-prod-us-east-1-nxhm2/model_artifacts/best_bayes_xgb_model.joblib'...\n",
      "✅ ÉXITO: El modelo fue guardado exitosamente en S3.\n"
     ]
    }
   ],
   "source": [
    "import boto3\n",
    "import os\n",
    "\n",
    "# BUCKET_NAME = 'credit-risk-pipeline-preauth-prod-us-east-1-nxhm2' \n",
    "\n",
    "local_model_filename = \"best_bayes_xgb_model.joblib\"\n",
    "\n",
    "model_artifacts_prefix = \"model_artifacts/\"\n",
    "\n",
    "s3_client = boto3.client('s3')\n",
    "\n",
    "s3_key_for_model = f\"{model_artifacts_prefix}{local_model_filename}\"\n",
    "\n",
    "if os.path.exists(local_model_filename):\n",
    "    try:\n",
    "        print(f\"Subiendo '{local_model_filename}' a 's3://{BUCKET_NAME}/{s3_key_for_model}'...\")\n",
    "        \n",
    "        # Subir el archivo\n",
    "        s3_client.upload_file(local_model_filename, BUCKET_NAME, s3_key_for_model)\n",
    "        \n",
    "        print(f\"✅ ÉXITO: El modelo fue guardado exitosamente en S3.\")\n",
    "        \n",
    "    except Exception as e:\n",
    "        print(f\"❌ ERROR al subir el modelo a S3: {e}\")\n",
    "else:\n",
    "    print(f\"❌ ERROR: No se encontró el archivo del modelo '{local_model_filename}' en el directorio local.\")\n",
    "    print(\"Asegúrate de que la celda de entrenamiento se haya ejecutado correctamente.\")"
   ]
  },
  {
   "cell_type": "code",
   "execution_count": null,
   "id": "21c5b3be-ba31-46d4-98bd-e9e5191d1227",
   "metadata": {},
   "outputs": [],
   "source": [
    "# Despliegue"
   ]
  },
  {
   "cell_type": "markdown",
   "id": "c73fb9ea-c3fb-45ec-9278-25937e9b8205",
   "metadata": {},
   "source": [
    "## Automatiza la creación del ZIP"
   ]
  },
  {
   "cell_type": "code",
   "execution_count": 57,
   "id": "d3925ba9-85fa-4fe1-8945-97f943d65afa",
   "metadata": {},
   "outputs": [
    {
     "name": "stdout",
     "output_type": "stream",
     "text": [
      "🚀 Iniciando preparación del paquete de despliegue...\n",
      "1/5: Limpiando entorno de trabajo anterior...\n",
      "2/5: Creando estructura de directorios: ./{LOCAL_DEPLOY_DIR}/code/\n",
      "3/5: Descargando artefactos del modelo desde S3...\n",
      "   -> Descargando s3://credit-risk-pipeline-preauth-prod-us-east-1-nxhm2/model_artifacts/best_bayes_xgb_model.joblib a deployment_package/best_bayes_xgb_model.joblib\n",
      "download: s3://credit-risk-pipeline-preauth-prod-us-east-1-nxhm2/model_artifacts/best_bayes_xgb_model.joblib to deployment_package/best_bayes_xgb_model.joblib\n",
      "   -> Descargando s3://credit-risk-pipeline-preauth-prod-us-east-1-nxhm2/model_artifacts/preprocessor.joblib a deployment_package/preprocessor.joblib\n",
      "download: s3://credit-risk-pipeline-preauth-prod-us-east-1-nxhm2/model_artifacts/preprocessor.joblib to deployment_package/preprocessor.joblib\n",
      "   -> Descargando s3://credit-risk-pipeline-preauth-prod-us-east-1-nxhm2/model_artifacts/target_encoder.joblib a deployment_package/target_encoder.joblib\n",
      "download: s3://credit-risk-pipeline-preauth-prod-us-east-1-nxhm2/model_artifacts/target_encoder.joblib to deployment_package/target_encoder.joblib\n",
      "4/5: Creando el script de inferencia 'inference.py'...\n"
     ]
    }
   ],
   "source": [
    "\n",
    "import os\n",
    "\n",
    "# --- 1. Configuración ---\n",
    "# BUCKET_NAME = 'credit-risk-pipeline-preauth-prod-us-east-1-nxhm2'\n",
    "\n",
    "MODEL_ARTIFACTS_PREFIX = 'model_artifacts/'\n",
    "\n",
    "LOCAL_DEPLOY_DIR = 'deployment_package'\n",
    "\n",
    "ARTIFACT_FILES = [\n",
    "    'best_bayes_xgb_model.joblib',\n",
    "    'preprocessor.joblib',\n",
    "    'target_encoder.joblib'\n",
    "]\n",
    "\n",
    "TAR_FILENAME = 'model.tar.gz'\n",
    "\n",
    "\n",
    "# --- 2. Preparación del Entorno Local ---\n",
    "print(\"🚀 Iniciando preparación del paquete de despliegue...\")\n",
    "print(\"1/5: Limpiando entorno de trabajo anterior...\")\n",
    "!rm -rf {LOCAL_DEPLOY_DIR}\n",
    "!rm -f {TAR_FILENAME}\n",
    "\n",
    "print(\"2/5: Creando estructura de directorios: ./{LOCAL_DEPLOY_DIR}/code/\")\n",
    "!mkdir -p {LOCAL_DEPLOY_DIR}/code\n",
    "\n",
    "\n",
    "print(\"3/5: Descargando artefactos del modelo desde S3...\")\n",
    "for filename in ARTIFACT_FILES:\n",
    "    s3_path = f\"s3://{BUCKET_NAME}/{MODEL_ARTIFACTS_PREFIX}{filename}\"\n",
    "    local_path = f\"{LOCAL_DEPLOY_DIR}/{filename}\"\n",
    "    print(f\"   -> Descargando {s3_path} a {local_path}\")\n",
    "    !aws s3 cp {s3_path} {local_path}\n",
    "\n",
    "\n",
    "# --- 4. Creación del Script de Inferencia ---\n",
    "print(\"4/5: Creando el script de inferencia 'inference.py'...\")\n",
    "\n"
   ]
  },
  {
   "cell_type": "code",
   "execution_count": 61,
   "id": "9e0d04c1-dca9-4d1a-9564-75c2abc5a833",
   "metadata": {},
   "outputs": [
    {
     "name": "stdout",
     "output_type": "stream",
     "text": [
      "Writing deployment_package/code/requirements.txt\n"
     ]
    }
   ],
   "source": [
    "%%writefile deployment_package/code/requirements.txt\n",
    "polars\n",
    "boto3\n",
    "pandas\n",
    "scikit-learn"
   ]
  },
  {
   "cell_type": "code",
   "execution_count": 62,
   "id": "f36a0017-f18f-4737-9f17-1daa58518d12",
   "metadata": {},
   "outputs": [
    {
     "name": "stdout",
     "output_type": "stream",
     "text": [
      "Overwriting deployment_package/code/inference.py\n"
     ]
    }
   ],
   "source": [
    "%%writefile deployment_package/code/inference.py\n",
    "\n",
    "import joblib\n",
    "import os\n",
    "import json\n",
    "import re\n",
    "import polars as pl\n",
    "import boto3\n",
    "import pandas as pd # Necesario para la conversión final al preprocesador\n",
    "import numpy\n",
    "import xgboost\n",
    "\n",
    "# ==================================\n",
    "# 1. Carga del Modelo (se ejecuta una vez)\n",
    "# ==================================\n",
    "def model_fn(model_dir):\n",
    "    print(\"Cargando artefactos...\")\n",
    "    try:\n",
    "        # Inicializar cliente de Bedrock aquí para reutilizarlo\n",
    "        bedrock_client = boto3.client(service_name='bedrock-runtime', region_name='us-east-1')\n",
    "        model = joblib.load(os.path.join(model_dir, \"best_bayes_xgb_model.joblib\"))\n",
    "        preprocessor = joblib.load(os.path.join(model_dir, \"preprocessor.joblib\"))\n",
    "        target_encoder = joblib.load(os.path.join(model_dir, \"target_encoder.joblib\"))\n",
    "        print(\"✅ Artefactos cargados exitosamente.\")\n",
    "        return {\n",
    "            \"model\": model,\n",
    "            \"preprocessor\": preprocessor,\n",
    "            \"target_encoder\": target_encoder,\n",
    "            \"bedrock_client\": bedrock_client\n",
    "        }\n",
    "    except Exception as e:\n",
    "        print(f\"❌ Error crítico al cargar los artefactos: {e}\")\n",
    "        return None\n",
    "\n",
    "# ==================================\n",
    "# 2. Parseo de la Entrada\n",
    "# ==================================\n",
    "def input_fn(request_body, request_content_type):\n",
    "    if request_content_type == \"application/json\":\n",
    "        return json.loads(request_body)\n",
    "    else:\n",
    "        raise ValueError(f\"Tipo de contenido no soportado: {request_content_type}\")\n",
    "\n",
    "# ==================================\n",
    "# 3. Predicción (Contiene todo el pipeline)\n",
    "# ==================================\n",
    "def predict_fn(input_data, model_artifacts):\n",
    "    print(\"--- Iniciando pipeline de inferencia ---\")\n",
    "    \n",
    "    # --- PASO 1: Ingeniería de Características ---\n",
    "    print(\"... (1/4) Generando características numéricas\")\n",
    "    df_polars = pl.DataFrame([input_data])\n",
    "    account_map = {'no info': 0, 'little': 1, 'moderate': 2, 'rich': 3}\n",
    "    df_featured = df_polars.with_columns([\n",
    "        (pl.col('Credit amount') / pl.col('Duration')).alias('monthly_payment'),\n",
    "        (pl.col('Credit amount') / (pl.col('Saving accounts').replace_strict(account_map, default=0) + 1)).alias('debt_to_savings_ratio')\n",
    "    ])\n",
    "\n",
    "    # --- PASO 2: Generación de Descripción con Bedrock ---\n",
    "    print(\"... (2/4) Generando descripción con LLM\")\n",
    "    description = \"Descripción no disponible.\"\n",
    "    bedrock_client = model_artifacts[\"bedrock_client\"]\n",
    "    try:\n",
    "        row = df_featured.to_dicts()[0]\n",
    "        client_data_str = (f\"Client: Age={row['Age']}, Sex={row['Sex']}, Housing={row['Housing']}, \"\n",
    "                           f\"Credit amount={row['Credit amount']}, Duration={row['Duration']} months, Purpose={row['Purpose']}, \"\n",
    "                           f\"Monthly Payment={row['monthly_payment']:.2f}, Debt to Savings Ratio={row['debt_to_savings_ratio']:.2f}\")\n",
    "        prompt = (f\"Act as a senior credit risk analyst. Generate a concise, objective credit risk profile description \"\n",
    "                  f\"(approx. 200 characters) for the following client: {client_data_str}. \"\n",
    "                  f\"Provide the output *only* as a single JSON object with a 'description' key.\")\n",
    "        messages = [{\"role\": \"user\", \"content\": [{\"text\": prompt}]}]\n",
    "        response = bedrock_client.converse(modelId=\"amazon.nova-lite-v1:0\", messages=messages)\n",
    "        raw_text = response['output']['message']['content'][0]['text']\n",
    "        json_match = re.search(r'\\{.*\\}', raw_text, re.DOTALL)\n",
    "        if json_match:\n",
    "            description = json.loads(json_match.group(0)).get(\"description\", \"Error de parseo.\")\n",
    "    except Exception as e:\n",
    "        print(f\"⚠️ Error en Bedrock: {e}\")\n",
    "    \n",
    "    df_augmented = df_featured.with_columns(pl.Series(\"description\", [description]))\n",
    "\n",
    "    # --- PASO 3: Preprocesamiento ---\n",
    "    print(\"... (3/4) Aplicando preprocesador\")\n",
    "    preprocessor = model_artifacts[\"preprocessor\"]\n",
    "    df_pandas = df_augmented.to_pandas()\n",
    "    processed_data = preprocessor.transform(df_pandas)\n",
    "\n",
    "    # --- PASO 4: Predicción ---\n",
    "    print(\"... (4/4) Realizando predicción con el modelo\")\n",
    "    model = model_artifacts[\"model\"]\n",
    "    prediction_code = model.predict(processed_data)\n",
    "    prediction_proba = model.predict_proba(processed_data)\n",
    "    \n",
    "    return {\n",
    "        \"prediction_code\": prediction_code,\n",
    "        \"prediction_proba\": prediction_proba,\n",
    "        \"description\": description\n",
    "    }\n",
    "\n",
    "# ==================================\n",
    "# 4. Formateo de la Salida\n",
    "# ==================================\n",
    "def output_fn(prediction_output, accept):\n",
    "    print(\"Formateando la respuesta final...\")\n",
    "    # NOTA: Volvemos a cargar el target_encoder porque no se pasa de predict_fn a output_fn\n",
    "    target_encoder = joblib.load(os.path.join(\"/opt/ml/model\", \"target_encoder.joblib\"))\n",
    "\n",
    "    predicted_label = target_encoder.inverse_transform(prediction_output['prediction_code'])[0]\n",
    "    confidence = float(prediction_output['prediction_proba'][0][prediction_output['prediction_code'][0]])\n",
    "    \n",
    "    response_body = {\n",
    "        \"predicted_risk\": predicted_label,\n",
    "        \"confidence\": round(confidence, 4),\n",
    "        \"generated_description\": prediction_output['description']\n",
    "    }\n",
    "    return json.dumps(response_body)"
   ]
  },
  {
   "cell_type": "code",
   "execution_count": 63,
   "id": "8679f940-abec-46bf-81c9-bbdd642351c3",
   "metadata": {},
   "outputs": [
    {
     "name": "stdout",
     "output_type": "stream",
     "text": [
      "📦 Comprimiendo el directorio en 'model.tar.gz'...\n",
      "./\n",
      "./code/\n",
      "./code/requirements.txt\n",
      "./code/inference.py\n",
      "./best_bayes_xgb_model.joblib\n",
      "./target_encoder.joblib\n",
      "./preprocessor.joblib\n",
      "☁️ Subiendo el paquete a 's3://credit-risk-pipeline-preauth-prod-us-east-1-nxhm2/sagemaker-deployment/'...\n",
      "upload: ./model.tar.gz to s3://credit-risk-pipeline-preauth-prod-us-east-1-nxhm2/sagemaker-deployment/model.tar.gz\n",
      "\n",
      "-------------------------------------------------------------\n",
      "✅ ¡TODO LISTO! El paquete está en S3.\n",
      "   Ruta del modelo: s3://credit-risk-pipeline-preauth-prod-us-east-1-nxhm2/sagemaker-deployment/model.tar.gz\n",
      "   Ya puedes ejecutar la celda de despliegue de SageMaker.\n",
      "-------------------------------------------------------------\n"
     ]
    }
   ],
   "source": [
    "# --- 5. Compresión y Subida a S3 ---\n",
    "\n",
    "# Variable para el prefijo en S3 donde se guardará el paquete final\n",
    "S3_DEPLOY_PREFIX = 'sagemaker-deployment/'\n",
    "\n",
    "print(f\"📦 Comprimiendo el directorio en '{TAR_FILENAME}'...\")\n",
    "# El comando -C es crucial para la estructura interna del .tar.gz\n",
    "!tar -czvf {TAR_FILENAME} -C {LOCAL_DEPLOY_DIR} .\n",
    "\n",
    "print(f\"☁️ Subiendo el paquete a 's3://{BUCKET_NAME}/{S3_DEPLOY_PREFIX}'...\")\n",
    "# --- ESTA ES LA LÍNEA CLAVE QUE FALTABA ---\n",
    "!aws s3 cp {TAR_FILENAME} s3://{BUCKET_NAME}/{S3_DEPLOY_PREFIX}\n",
    "\n",
    "print(\"\\n-------------------------------------------------------------\")\n",
    "print(\"✅ ¡TODO LISTO! El paquete está en S3.\")\n",
    "print(f\"   Ruta del modelo: s3://{BUCKET_NAME}/{S3_DEPLOY_PREFIX}{TAR_FILENAME}\")\n",
    "print(\"   Ya puedes ejecutar la celda de despliegue de SageMaker.\")\n",
    "print(\"-------------------------------------------------------------\")"
   ]
  },
  {
   "cell_type": "markdown",
   "id": "605d4bd7-b695-4883-887f-1bbb9f0ce520",
   "metadata": {},
   "source": [
    "## Desplegar a SageMaker"
   ]
  },
  {
   "cell_type": "code",
   "execution_count": 69,
   "id": "4c452340-8073-47f9-b3c4-f3f7906fbe5c",
   "metadata": {},
   "outputs": [
    {
     "name": "stdout",
     "output_type": "stream",
     "text": [
      "--- [Paso 1 de 3] Definiendo la configuración... ---\n",
      "--- [Paso 2 de 3] Preparando los scripts de inferencia en 'deployment_package/code'... ---\n",
      "✅ Scripts de inferencia creados correctamente en la estructura correcta.\n",
      "\n",
      "--- [Paso 3 de 3] Desplegando el endpoint: credit-risk-endpoint-1753407265 ---\n",
      "   SageMaker empaquetará el código y los artefactos. Esto puede tardar unos 10 minutos.\n",
      "--------------!\n",
      "✅✅✅ ¡ÉXITO TOTAL! Endpoint desplegado y listo para usar. ✅✅✅\n",
      "   Nombre del Endpoint: credit-risk-endpoint-1753407265\n"
     ]
    }
   ],
   "source": [
    "import sagemaker\n",
    "from sagemaker.xgboost.model import XGBoostModel\n",
    "import time\n",
    "import os\n",
    "\n",
    "# ==============================================================================\n",
    "# CELDA ÚNICA Y DEFINITIVA PARA PREPARAR Y DESPLEGAR\n",
    "# ==============================================================================\n",
    "\n",
    "# --- 1. CONFIGURACIÓN ---\n",
    "print(\"--- [Paso 1 de 3] Definiendo la configuración... ---\")\n",
    "sagemaker_session = sagemaker.Session()\n",
    "role = sagemaker.get_execution_role()\n",
    "\n",
    "# BUCKET_NAME debe estar definido en una celda anterior\n",
    "# BUCKET_NAME = 'credit-risk-pipeline-preauth-prod-us-east-1-nxhm2'\n",
    "MODEL_ARTIFACTS_PREFIX = 'sagemaker-deployment/model.tar.gz'\n",
    "\n",
    "# CORRECCIÓN DEFINITIVA: Definimos la ruta exacta de la carpeta que contendrá el script.\n",
    "LOCAL_CODE_DIR = 'deployment_package/code'\n",
    "\n",
    "# --- 2. PREPARACIÓN LOCAL (Limpieza y Creación de Scripts) ---\n",
    "print(f\"--- [Paso 2 de 3] Preparando los scripts de inferencia en '{LOCAL_CODE_DIR}'... ---\")\n",
    "\n",
    "# Limpieza robusta de cualquier intento anterior\n",
    "os.system(f\"rm -rf {LOCAL_CODE_DIR.split('/')[0]}\")\n",
    "# Creación de la estructura de directorios anidada\n",
    "os.makedirs(LOCAL_CODE_DIR, exist_ok=True)\n",
    "\n",
    "# Creación del requirements.txt en la ubicación correcta\n",
    "with open(os.path.join(LOCAL_CODE_DIR, \"requirements.txt\"), \"w\") as f:\n",
    "    f.write(\"polars\\nboto3\\npandas\\nscikit-learn\")\n",
    "\n",
    "# Creación del inference.py en la ubicación correcta\n",
    "with open(os.path.join(LOCAL_CODE_DIR, \"inference.py\"), \"w\") as f:\n",
    "    f.write(\"\"\"\n",
    "import joblib, os, json, re, polars as pl, boto3, pandas as pd, numpy, xgboost\n",
    "\n",
    "def model_fn(model_dir):\n",
    "    print(\"Cargando artefactos...\")\n",
    "    try:\n",
    "        bedrock_client = boto3.client(service_name='bedrock-runtime', region_name='us-east-1')\n",
    "        model = joblib.load(os.path.join(model_dir, \"best_bayes_xgb_model.joblib\"))\n",
    "        preprocessor = joblib.load(os.path.join(model_dir, \"preprocessor.joblib\"))\n",
    "        target_encoder = joblib.load(os.path.join(model_dir, \"target_encoder.joblib\"))\n",
    "        print(\"✅ Artefactos cargados.\")\n",
    "        return {\"model\": model, \"preprocessor\": preprocessor, \"target_encoder\": target_encoder, \"bedrock_client\": bedrock_client}\n",
    "    except Exception as e:\n",
    "        print(f\"❌ Error al cargar artefactos: {e}\"); return None\n",
    "\n",
    "def input_fn(request_body, request_content_type):\n",
    "    if request_content_type == \"application/json\": return json.loads(request_body)\n",
    "    else: raise ValueError(f\"Tipo de contenido no soportado: {request_content_type}\")\n",
    "\n",
    "def predict_fn(input_data, model_artifacts):\n",
    "    print(\"--- Iniciando pipeline de inferencia ---\")\n",
    "    df_polars = pl.DataFrame([input_data])\n",
    "    account_map = {'no info': 0, 'little': 1, 'moderate': 2, 'rich': 3}\n",
    "    df_featured = df_polars.with_columns([(pl.col('Credit amount') / pl.col('Duration')).alias('monthly_payment'), (pl.col('Credit amount') / (pl.col('Saving accounts').replace_strict(account_map, default=0) + 1)).alias('debt_to_savings_ratio')])\n",
    "    description = \"Descripción no disponible.\"\n",
    "    try:\n",
    "        row = df_featured.to_dicts()[0]\n",
    "        client_data_str = (f\"Client: Age={row['Age']}, Sex={row['Sex']}, Housing={row['Housing']}, Credit amount={row['Credit amount']}, Duration={row['Duration']} months, Purpose={row['Purpose']}, Monthly Payment={row['monthly_payment']:.2f}, Debt to Savings Ratio={row['debt_to_savings_ratio']:.2f}\")\n",
    "        prompt = (f\"Act as a senior credit risk analyst. Generate a concise, objective credit risk profile description (approx. 200 characters) for the following client: {client_data_str}. Provide the output *only* as a single JSON object with a 'description' key.\")\n",
    "        messages = [{\"role\": \"user\", \"content\": [{\"text\": prompt}]}]\n",
    "        response = model_artifacts[\"bedrock_client\"].converse(modelId=\"amazon.nova-lite-v1:0\", messages=messages)\n",
    "        raw_text = response['output']['message']['content'][0]['text']\n",
    "        json_match = re.search(r'\\\\{.*\\\\}', raw_text, re.DOTALL)\n",
    "        if json_match: description = json.loads(json_match.group(0)).get(\"description\", \"Error de parseo.\")\n",
    "    except Exception as e: print(f\"⚠️ Error en Bedrock: {e}\")\n",
    "    df_augmented = df_featured.with_columns(pl.Series(\"description\", [description]))\n",
    "    preprocessor = model_artifacts[\"preprocessor\"]\n",
    "    processed_data = preprocessor.transform(df_augmented.to_pandas())\n",
    "    model = model_artifacts[\"model\"]\n",
    "    prediction_code = model.predict(processed_data)\n",
    "    prediction_proba = model.predict_proba(processed_data)\n",
    "    return {\"prediction_code\": prediction_code, \"prediction_proba\": prediction_proba, \"description\": description}\n",
    "\n",
    "def output_fn(prediction_output, accept):\n",
    "    target_encoder = joblib.load(os.path.join(\"/opt/ml/model\", \"target_encoder.joblib\"))\n",
    "    predicted_label = target_encoder.inverse_transform(prediction_output['prediction_code'])[0]\n",
    "    confidence = float(prediction_output['prediction_proba'][0][prediction_output['prediction_code'][0]])\n",
    "    response_body = {\"predicted_risk\": predicted_label, \"confidence\": round(confidence, 4), \"generated_description\": prediction_output['description']}\n",
    "    return json.dumps(response_body)\n",
    "\"\"\")\n",
    "\n",
    "print(\"✅ Scripts de inferencia creados correctamente en la estructura correcta.\")\n",
    "\n",
    "# --- 3. DESPLIEGUE ---\n",
    "model_artifacts_s3_path = f\"s3://{BUCKET_NAME}/{MODEL_ARTIFACTS_PREFIX}\"\n",
    "endpoint_name = f'credit-risk-endpoint-{int(time.time())}'\n",
    "\n",
    "# Usamos XGBoostModel, que es la clase correcta para nuestro modelo.\n",
    "# CORRECCIÓN DEFINITIVA: El source_dir apunta a la carpeta que REALMENTE contiene el script.\n",
    "xgboost_model = XGBoostModel(\n",
    "    model_data=model_artifacts_s3_path,\n",
    "    role=role,\n",
    "    entry_point='inference.py',\n",
    "    source_dir=LOCAL_CODE_DIR, # <--- ESTA ES LA LÍNEA CRÍTICA Y AHORA ES CORRECTA\n",
    "    framework_version='1.7-1',\n",
    "    py_version='py3'\n",
    ")\n",
    "\n",
    "print(f\"\\n--- [Paso 3 de 3] Desplegando el endpoint: {endpoint_name} ---\")\n",
    "print(\"   SageMaker empaquetará el código y los artefactos. Esto puede tardar unos 10 minutos.\")\n",
    "\n",
    "predictor = xgboost_model.deploy(\n",
    "    initial_instance_count=1,\n",
    "    instance_type='ml.t2.medium',\n",
    "    endpoint_name=endpoint_name\n",
    ")\n",
    "\n",
    "print(f\"\\n✅✅✅ ¡ÉXITO TOTAL! Endpoint desplegado y listo para usar. ✅✅✅\")\n",
    "print(f\"   Nombre del Endpoint: {predictor.endpoint_name}\")"
   ]
  },
  {
   "cell_type": "code",
   "execution_count": 83,
   "id": "80e9b5d9-c59c-4866-a48d-d220e2b3de30",
   "metadata": {},
   "outputs": [
    {
     "name": "stdout",
     "output_type": "stream",
     "text": [
      "--- [Paso 1/5] Descargando y cargando artefactos desde S3... ---\n",
      "   -> Iniciando descarga de artefactos...\n",
      "      - El archivo 'best_bayes_xgb_model.joblib' ya existe localmente. No se descarga.\n",
      "      - Descargando 'model_artifacts/preprocessor.joblib' a 'preprocessor.joblib'...\n",
      "      - Descargando 'model_artifacts/target_encoder.joblib' a 'target_encoder.joblib'...\n",
      "   -> Descarga completada.\n",
      "   -> Cargando artefactos a memoria...\n",
      "\n",
      "✅ Artefactos y cliente Bedrock listos para usar.\n"
     ]
    }
   ],
   "source": [
    "import joblib\n",
    "import boto3\n",
    "import os\n",
    "\n",
    "# ==============================================================================\n",
    "#                      1. DESCARGA Y CARGA DE ARTEFACTOS\n",
    "# ==============================================================================\n",
    "print(\"--- [Paso 1/5] Descargando y cargando artefactos desde S3... ---\")\n",
    "\n",
    "# --- Configuración de S3 ---\n",
    "BUCKET_NAME = 'credit-risk-pipeline-preauth-prod-us-east-1-nxhm2'\n",
    "S3_ARTIFACTS_PREFIX = 'model_artifacts/'\n",
    "LOCAL_ARTIFACTS_FILES = [\n",
    "    'best_bayes_xgb_model.joblib',\n",
    "    'preprocessor.joblib',\n",
    "    'target_encoder.joblib'\n",
    "]\n",
    "\n",
    "try:\n",
    "    # Inicializa los clientes de AWS\n",
    "    s3_client = boto3.client('s3')\n",
    "    bedrock_client = boto3.client(service_name='bedrock-runtime', region_name='us-east-1')\n",
    "    \n",
    "    # --- Descarga de archivos desde S3 ---\n",
    "    print(\"   -> Iniciando descarga de artefactos...\")\n",
    "    for filename in LOCAL_ARTIFACTS_FILES:\n",
    "        s3_key = f\"{S3_ARTIFACTS_PREFIX}{filename}\"\n",
    "        local_path = filename\n",
    "        \n",
    "        if not os.path.exists(local_path):\n",
    "            print(f\"      - Descargando '{s3_key}' a '{local_path}'...\")\n",
    "            s3_client.download_file(BUCKET_NAME, s3_key, local_path)\n",
    "        else:\n",
    "            print(f\"      - El archivo '{local_path}' ya existe localmente. No se descarga.\")\n",
    "            \n",
    "    print(\"   -> Descarga completada.\")\n",
    "\n",
    "    # --- Carga de artefactos a memoria ---\n",
    "    print(\"   -> Cargando artefactos a memoria...\")\n",
    "    loaded_model = joblib.load('best_bayes_xgb_model.joblib')\n",
    "    loaded_preprocessor = joblib.load('preprocessor.joblib')\n",
    "    loaded_target_encoder = joblib.load('target_encoder.joblib')\n",
    "\n",
    "    print(\"\\n✅ Artefactos y cliente Bedrock listos para usar.\")\n",
    "\n",
    "except Exception as e:\n",
    "    print(f\"❌ Ocurrió un error durante la inicialización: {e}\")\n",
    "    print(\"   Verifica que el nombre del bucket, los prefijos y tus credenciales de AWS sean correctos.\")\n",
    "    # Detenemos la ejecución si algo falla\n",
    "    raise"
   ]
  },
  {
   "cell_type": "code",
   "execution_count": 91,
   "id": "ad18411c-267f-42ba-8505-94a01c8c555c",
   "metadata": {},
   "outputs": [
    {
     "name": "stdout",
     "output_type": "stream",
     "text": [
      "\n",
      "--- [Paso 2/5] Definiendo los datos del nuevo cliente (en crudo)... ---\n",
      "shape: (1, 9)\n",
      "┌─────┬────────┬─────┬─────────┬───┬──────────────────┬───────────────┬──────────┬─────────┐\n",
      "│ Age ┆ Sex    ┆ Job ┆ Housing ┆ … ┆ Checking account ┆ Credit amount ┆ Duration ┆ Purpose │\n",
      "│ --- ┆ ---    ┆ --- ┆ ---     ┆   ┆ ---              ┆ ---           ┆ ---      ┆ ---     │\n",
      "│ i64 ┆ str    ┆ i64 ┆ str     ┆   ┆ str              ┆ i64           ┆ i64      ┆ str     │\n",
      "╞═════╪════════╪═════╪═════════╪═══╪══════════════════╪═══════════════╪══════════╪═════════╡\n",
      "│ 20  ┆ female ┆ 2   ┆ own     ┆ … ┆ little           ┆ 7800          ┆ 18       ┆ car     │\n",
      "└─────┴────────┴─────┴─────────┴───┴──────────────────┴───────────────┴──────────┴─────────┘\n",
      "\n",
      "--- [Paso 3/5] Enriqueciendo los datos... ---\n",
      "   -> Calculando 'monthly_payment' y 'debt_to_savings_ratio'...\n",
      "      ✅ Nuevos features numéricos calculados.\n",
      "   -> Llamando a Bedrock para generar la descripción...\n",
      "      Respuesta completa de Bedrock (raw_text): ```json\n",
      "{\n",
      "  \"description\": \"Young female homeowner with limited savings, high debt/savings ratio, taking a 7800 loan for a car with a monthly payment of 433.33 over 18 months.\"\n",
      "}\n",
      "```\n",
      "\n",
      "--- DataFrame después del enriquecimiento ---\n",
      "shape: (1, 12)\n",
      "┌─────┬────────┬─────┬─────────┬───┬─────────┬─────────────────┬─────────────────┬─────────────────┐\n",
      "│ Age ┆ Sex    ┆ Job ┆ Housing ┆ … ┆ Purpose ┆ monthly_payment ┆ debt_to_savings ┆ description     │\n",
      "│ --- ┆ ---    ┆ --- ┆ ---     ┆   ┆ ---     ┆ ---             ┆ _ratio          ┆ ---             │\n",
      "│ i64 ┆ str    ┆ i64 ┆ str     ┆   ┆ str     ┆ f64             ┆ ---             ┆ str             │\n",
      "│     ┆        ┆     ┆         ┆   ┆         ┆                 ┆ f64             ┆                 │\n",
      "╞═════╪════════╪═════╪═════════╪═══╪═════════╪═════════════════╪═════════════════╪═════════════════╡\n",
      "│ 20  ┆ female ┆ 2   ┆ own     ┆ … ┆ car     ┆ 433.333333      ┆ 3900.0          ┆ Young female    │\n",
      "│     ┆        ┆     ┆         ┆   ┆         ┆                 ┆                 ┆ homeowner with  │\n",
      "│     ┆        ┆     ┆         ┆   ┆         ┆                 ┆                 ┆ li…             │\n",
      "└─────┴────────┴─────┴─────────┴───┴─────────┴─────────────────┴─────────────────┴─────────────────┘\n",
      "\n",
      "--- [Paso 4/5] Aplicando el preprocesador al dataset enriquecido... ---\n",
      "✅ Datos transformados y listos para la clasificación.\n",
      "   (Forma de los datos procesados: (1, 118))\n",
      "\n",
      "--- [Paso 5/5] Realizando la clasificación con el modelo XGBoost... ---\n",
      "\n",
      "==============================================\n",
      "          RESULTADO DE LA EVALUACIÓN\n",
      "==============================================\n",
      "  Riesgo Predicho:       BAD RISK\n",
      "  Nivel de Confianza:    95.07%\n",
      "  Descripción del Perfil:  'Young female homeowner with limited savings, high debt/savings ratio, taking a 7800 loan for a car with a monthly payment of 433.33 over 18 months.'\n",
      "==============================================\n"
     ]
    }
   ],
   "source": [
    "import polars as pl\n",
    "import json\n",
    "import re\n",
    "\n",
    "# ==============================================================================\n",
    "#                  2. DATOS DE ENTRADA (SIN ENRIQUECER)\n",
    "# ==============================================================================\n",
    "print(\"\\n--- [Paso 2/5] Definiendo los datos del nuevo cliente (en crudo)... ---\")\n",
    "\n",
    "# Esta es la información básica y completa que recibirías en una consulta\n",
    "new_client_raw_data = {\n",
    "    \"Age\": 0,\n",
    "    \"Sex\": \"male\",\n",
    "    \"Job\": 2, # skilled\n",
    "    \"Housing\": \"own\",\n",
    "    \"Saving accounts\": \"little\",\n",
    "    \"Checking account\": \"little\",\n",
    "    \"Credit amount\": 7800,\n",
    "    \"Duration\": 18,\n",
    "    \"Purpose\": \"car\"\n",
    "}\n",
    "\n",
    "# Convertimos a un DataFrame de Polars para empezar el procesamiento\n",
    "df_raw = pl.DataFrame([new_client_raw_data])\n",
    "print(df_raw)\n",
    "\n",
    "# ==============================================================================\n",
    "#                      3. ENRIQUECIMIENTO DE DATOS\n",
    "# ==============================================================================\n",
    "print(\"\\n--- [Paso 3/5] Enriqueciendo los datos... ---\")\n",
    "\n",
    "# --- 3.1. Cálculo de nuevos features numéricos ---\n",
    "print(\"   -> Calculando 'monthly_payment' y 'debt_to_savings_ratio'...\")\n",
    "account_map = {'no info': 0, 'little': 1, 'moderate': 2, 'rich': 3}\n",
    "df_featured = df_raw.with_columns([\n",
    "    (pl.col('Credit amount') / pl.col('Duration')).alias('monthly_payment'),\n",
    "    (pl.col('Credit amount') / (pl.col('Saving accounts').replace_strict(account_map, default=0) + 1)).alias('debt_to_savings_ratio')\n",
    "])\n",
    "print(\"      ✅ Nuevos features numéricos calculados.\")\n",
    "\n",
    "# --- 3.2. Generación de descripción con Bedrock ---\n",
    "print(\"   -> Llamando a Bedrock para generar la descripción...\")\n",
    "description = \"Descripción no generada (error en Bedrock).\"\n",
    "try:\n",
    "    # Formatear los datos del cliente para el prompt\n",
    "    row = df_featured.to_dicts()[0]\n",
    "    # Formatear TODOS los datos del cliente, incluyendo los features calculados, para el prompt en INGLÉS\n",
    "    client_data_str = (f\"Client data: Age={row['Age']}, Sex={row['Sex']}, Job={row['Job']}, \"\n",
    "                       f\"Housing='{row['Housing']}', Saving accounts='{row['Saving accounts']}', \"\n",
    "                       f\"Checking account='{row['Checking account']}', Credit amount={row['Credit amount']}, \"\n",
    "                       f\"Duration={row['Duration']} months, Purpose='{row['Purpose']}', \"\n",
    "                       f\"Monthly payment={row['monthly_payment']:.2f}, \"\n",
    "                       f\"Debt/Savings ratio={row['debt_to_savings_ratio']:.2f}\")\n",
    "\n",
    "    # Prompt en INGLÉS para el modelo LLM, ahora con la información completa\n",
    "    prompt = (f\"Act as a senior risk analyst. Generate a concise (approx. 200 characters) risk profile description \"\n",
    "              f\"for the following client data: {client_data_str}. \"\n",
    "              f\"Respond *only* with a single JSON object with the key 'description'.\")\n",
    "    \n",
    "    messages = [{\"role\": \"user\", \"content\": [{\"text\": prompt}]}]\n",
    "    response = bedrock_client.converse(modelId=\"amazon.nova-lite-v1:0\", messages=messages)\n",
    "    raw_text = response['output']['message']['content'][0]['text']\n",
    "    print(f\"      Respuesta completa de Bedrock (raw_text): {raw_text}\")\n",
    "\n",
    "    # Extraer el JSON de la respuesta\n",
    "    json_match = re.search(r'\\{.*\\}', raw_text, re.DOTALL)\n",
    "    if json_match:\n",
    "        try:\n",
    "            # Extraemos el texto que coincide con el patrón JSON\n",
    "            json_string = json_match.group(0)\n",
    "            # Intentamos parsearlo\n",
    "            parsed_json = json.loads(json_string)\n",
    "            description = parsed_json.get(\"description\", \"Clave 'description' no encontrada en el JSON.\")\n",
    "        except json.JSONDecodeError:\n",
    "            description = \"Error: El texto encontrado no es un JSON válido.\"\n",
    "    else:\n",
    "        description = \"Error: No se encontró un patrón JSON en la respuesta de Bedrock.\"\n",
    "\n",
    "except Exception as e:\n",
    "    print(f\"      ⚠️ Advertencia: La llamada a Bedrock falló: {e}\")\n",
    "\n",
    "# Añadir la descripción al DataFrame\n",
    "df_augmented = df_featured.with_columns(pl.Series(\"description\", [description]))\n",
    "\n",
    "print(\"\\n--- DataFrame después del enriquecimiento ---\")\n",
    "print(df_augmented)\n",
    "\n",
    "# ==============================================================================\n",
    "#                         4. TRANSFORMACIÓN DE DATOS\n",
    "# ==============================================================================\n",
    "print(\"\\n--- [Paso 4/5] Aplicando el preprocesador al dataset enriquecido... ---\")\n",
    "\n",
    "# El preprocesador (ColumnTransformer) fue entrenado con Pandas, por lo que convertimos el DataFrame\n",
    "# en el último momento.\n",
    "X_processed = loaded_preprocessor.transform(df_augmented.to_pandas())\n",
    "print(\"✅ Datos transformados y listos para la clasificación.\")\n",
    "print(f\"   (Forma de los datos procesados: {X_processed.shape})\")\n",
    "\n",
    "# ==============================================================================\n",
    "#                            5. CLASIFICACIÓN\n",
    "# ==============================================================================\n",
    "print(\"\\n--- [Paso 5/5] Realizando la clasificación con el modelo XGBoost... ---\")\n",
    "\n",
    "# Realizar la predicción\n",
    "prediction_encoded = loaded_model.predict(X_processed)\n",
    "prediction_proba = loaded_model.predict_proba(X_processed)\n",
    "\n",
    "# Decodificar la predicción a la etiqueta original\n",
    "predicted_label = loaded_target_encoder.inverse_transform(prediction_encoded)[0]\n",
    "confidence = prediction_proba[0][prediction_encoded[0]]\n",
    "\n",
    "# Imprimir el resultado final\n",
    "print(\"\\n==============================================\")\n",
    "print(\"          RESULTADO DE LA EVALUACIÓN\")\n",
    "print(\"==============================================\")\n",
    "print(f\"  Riesgo Predicho:       {predicted_label.upper()}\")\n",
    "print(f\"  Nivel de Confianza:    {confidence:.2%}\")\n",
    "print(f\"  Descripción del Perfil:  '{description}'\")\n",
    "print(\"==============================================\")"
   ]
  },
  {
   "cell_type": "code",
   "execution_count": 87,
   "id": "97b4632e-31c1-4f8d-9234-9e92717d8c5a",
   "metadata": {
    "scrolled": true
   },
   "outputs": [
    {
     "data": {
      "text/plain": [
       "'Descripción no generada (error en Bedrock).'"
      ]
     },
     "execution_count": 87,
     "metadata": {},
     "output_type": "execute_result"
    }
   ],
   "source": [
    "df_augmented[\"description\"][0]"
   ]
  },
  {
   "cell_type": "code",
   "execution_count": null,
   "id": "f502996d-1369-48bd-8bf4-34bbb94a49d6",
   "metadata": {},
   "outputs": [],
   "source": []
  }
 ],
 "metadata": {
  "kernelspec": {
   "display_name": "conda_python3",
   "language": "python",
   "name": "conda_python3"
  },
  "language_info": {
   "codemirror_mode": {
    "name": "ipython",
    "version": 3
   },
   "file_extension": ".py",
   "mimetype": "text/x-python",
   "name": "python",
   "nbconvert_exporter": "python",
   "pygments_lexer": "ipython3",
   "version": "3.10.18"
  }
 },
 "nbformat": 4,
 "nbformat_minor": 5
}
